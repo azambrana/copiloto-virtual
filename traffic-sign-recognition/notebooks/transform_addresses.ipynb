{
 "cells": [
  {
   "metadata": {
    "ExecuteTime": {
     "end_time": "2024-10-27T17:05:29.786770Z",
     "start_time": "2024-10-27T17:05:29.772313Z"
    }
   },
   "cell_type": "code",
   "source": [
    "import pandas as pd\n",
    "import numpy as np"
   ],
   "id": "65b628e2e22143a",
   "outputs": [],
   "execution_count": 31
  },
  {
   "metadata": {
    "ExecuteTime": {
     "end_time": "2024-10-27T17:05:29.802770Z",
     "start_time": "2024-10-27T17:05:29.787748Z"
    }
   },
   "cell_type": "code",
   "source": [
    "path = '../dataset/yolo_signals_cbba/addresses.csv'\n",
    "df = pd.read_csv(path)\n",
    "df.head()"
   ],
   "id": "cff73f165fd49068",
   "outputs": [
    {
     "data": {
      "text/plain": [
       "     latitud   longitud                                            address\n",
       "0 -17.428987 -66.159564  Avenida Panamericana, Lindo, Cochabamba, Cerca...\n",
       "1 -17.417096 -66.157226  Avenida Panamericana, Independencia, Cochabamb...\n",
       "2 -17.417017 -66.157214  Avenida Panamericana, Independencia, Cochabamb...\n",
       "3 -17.416900 -66.157191  Avenida Panamericana, Independencia, Cochabamb...\n",
       "4 -17.412288 -66.156361  Avenida Panamericana, Canata, Cochabamba, Cerc..."
      ],
      "text/html": [
       "<div>\n",
       "<style scoped>\n",
       "    .dataframe tbody tr th:only-of-type {\n",
       "        vertical-align: middle;\n",
       "    }\n",
       "\n",
       "    .dataframe tbody tr th {\n",
       "        vertical-align: top;\n",
       "    }\n",
       "\n",
       "    .dataframe thead th {\n",
       "        text-align: right;\n",
       "    }\n",
       "</style>\n",
       "<table border=\"1\" class=\"dataframe\">\n",
       "  <thead>\n",
       "    <tr style=\"text-align: right;\">\n",
       "      <th></th>\n",
       "      <th>latitud</th>\n",
       "      <th>longitud</th>\n",
       "      <th>address</th>\n",
       "    </tr>\n",
       "  </thead>\n",
       "  <tbody>\n",
       "    <tr>\n",
       "      <th>0</th>\n",
       "      <td>-17.428987</td>\n",
       "      <td>-66.159564</td>\n",
       "      <td>Avenida Panamericana, Lindo, Cochabamba, Cerca...</td>\n",
       "    </tr>\n",
       "    <tr>\n",
       "      <th>1</th>\n",
       "      <td>-17.417096</td>\n",
       "      <td>-66.157226</td>\n",
       "      <td>Avenida Panamericana, Independencia, Cochabamb...</td>\n",
       "    </tr>\n",
       "    <tr>\n",
       "      <th>2</th>\n",
       "      <td>-17.417017</td>\n",
       "      <td>-66.157214</td>\n",
       "      <td>Avenida Panamericana, Independencia, Cochabamb...</td>\n",
       "    </tr>\n",
       "    <tr>\n",
       "      <th>3</th>\n",
       "      <td>-17.416900</td>\n",
       "      <td>-66.157191</td>\n",
       "      <td>Avenida Panamericana, Independencia, Cochabamb...</td>\n",
       "    </tr>\n",
       "    <tr>\n",
       "      <th>4</th>\n",
       "      <td>-17.412288</td>\n",
       "      <td>-66.156361</td>\n",
       "      <td>Avenida Panamericana, Canata, Cochabamba, Cerc...</td>\n",
       "    </tr>\n",
       "  </tbody>\n",
       "</table>\n",
       "</div>"
      ]
     },
     "execution_count": 32,
     "metadata": {},
     "output_type": "execute_result"
    }
   ],
   "execution_count": 32
  },
  {
   "metadata": {
    "ExecuteTime": {
     "end_time": "2024-10-27T17:05:29.818312Z",
     "start_time": "2024-10-27T17:05:29.803772Z"
    }
   },
   "cell_type": "code",
   "source": [
    "# split the address column by comma, then check if any of the split values start with 'Avenida' or 'Calle', else return first value\n",
    "def transform_address(address):\n",
    "    address = address.split(',')\n",
    "    for a in address:\n",
    "        a = a.strip()\n",
    "        if a.startswith('Avenida') or a.startswith('Calle'):\n",
    "            return a.replace('Avenida', 'Av.').replace('Calle', 'C.')\n",
    "    return address[0]\n",
    "\n",
    "df['avenida'] = df['address'].apply(transform_address)"
   ],
   "id": "6afbe837d4e1e5aa",
   "outputs": [],
   "execution_count": 33
  },
  {
   "metadata": {
    "ExecuteTime": {
     "end_time": "2024-10-27T17:05:29.833194Z",
     "start_time": "2024-10-27T17:05:29.820281Z"
    }
   },
   "cell_type": "code",
   "source": "df",
   "id": "6bbeba6e27a8627d",
   "outputs": [
    {
     "data": {
      "text/plain": [
       "        latitud   longitud                                            address  \\\n",
       "0    -17.428987 -66.159564  Avenida Panamericana, Lindo, Cochabamba, Cerca...   \n",
       "1    -17.417096 -66.157226  Avenida Panamericana, Independencia, Cochabamb...   \n",
       "2    -17.417017 -66.157214  Avenida Panamericana, Independencia, Cochabamb...   \n",
       "3    -17.416900 -66.157191  Avenida Panamericana, Independencia, Cochabamb...   \n",
       "4    -17.412288 -66.156361  Avenida Panamericana, Canata, Cochabamba, Cerc...   \n",
       "...         ...        ...                                                ...   \n",
       "1162 -17.388302 -66.164555  Avenida Rafael Urquidi, Cobija, Cercado, Cocha...   \n",
       "1163 -17.388586 -66.164503  Avenida Rafael Urquidi, Cobija, Cercado, Cocha...   \n",
       "1164 -17.388644 -66.164492  Avenida Rafael Urquidi, Cobija, Cercado, Cocha...   \n",
       "1165 -17.406208 -66.169949  Avenida Juana Azurduy de Padilla, Guillermo Ki...   \n",
       "1166 -17.406273 -66.169970  Avenida Juana Azurduy de Padilla, Guillermo Ki...   \n",
       "\n",
       "                           avenida  \n",
       "0                 Av. Panamericana  \n",
       "1                 Av. Panamericana  \n",
       "2                 Av. Panamericana  \n",
       "3                 Av. Panamericana  \n",
       "4                 Av. Panamericana  \n",
       "...                            ...  \n",
       "1162            Av. Rafael Urquidi  \n",
       "1163            Av. Rafael Urquidi  \n",
       "1164            Av. Rafael Urquidi  \n",
       "1165  Av. Juana Azurduy de Padilla  \n",
       "1166  Av. Juana Azurduy de Padilla  \n",
       "\n",
       "[1167 rows x 4 columns]"
      ],
      "text/html": [
       "<div>\n",
       "<style scoped>\n",
       "    .dataframe tbody tr th:only-of-type {\n",
       "        vertical-align: middle;\n",
       "    }\n",
       "\n",
       "    .dataframe tbody tr th {\n",
       "        vertical-align: top;\n",
       "    }\n",
       "\n",
       "    .dataframe thead th {\n",
       "        text-align: right;\n",
       "    }\n",
       "</style>\n",
       "<table border=\"1\" class=\"dataframe\">\n",
       "  <thead>\n",
       "    <tr style=\"text-align: right;\">\n",
       "      <th></th>\n",
       "      <th>latitud</th>\n",
       "      <th>longitud</th>\n",
       "      <th>address</th>\n",
       "      <th>avenida</th>\n",
       "    </tr>\n",
       "  </thead>\n",
       "  <tbody>\n",
       "    <tr>\n",
       "      <th>0</th>\n",
       "      <td>-17.428987</td>\n",
       "      <td>-66.159564</td>\n",
       "      <td>Avenida Panamericana, Lindo, Cochabamba, Cerca...</td>\n",
       "      <td>Av. Panamericana</td>\n",
       "    </tr>\n",
       "    <tr>\n",
       "      <th>1</th>\n",
       "      <td>-17.417096</td>\n",
       "      <td>-66.157226</td>\n",
       "      <td>Avenida Panamericana, Independencia, Cochabamb...</td>\n",
       "      <td>Av. Panamericana</td>\n",
       "    </tr>\n",
       "    <tr>\n",
       "      <th>2</th>\n",
       "      <td>-17.417017</td>\n",
       "      <td>-66.157214</td>\n",
       "      <td>Avenida Panamericana, Independencia, Cochabamb...</td>\n",
       "      <td>Av. Panamericana</td>\n",
       "    </tr>\n",
       "    <tr>\n",
       "      <th>3</th>\n",
       "      <td>-17.416900</td>\n",
       "      <td>-66.157191</td>\n",
       "      <td>Avenida Panamericana, Independencia, Cochabamb...</td>\n",
       "      <td>Av. Panamericana</td>\n",
       "    </tr>\n",
       "    <tr>\n",
       "      <th>4</th>\n",
       "      <td>-17.412288</td>\n",
       "      <td>-66.156361</td>\n",
       "      <td>Avenida Panamericana, Canata, Cochabamba, Cerc...</td>\n",
       "      <td>Av. Panamericana</td>\n",
       "    </tr>\n",
       "    <tr>\n",
       "      <th>...</th>\n",
       "      <td>...</td>\n",
       "      <td>...</td>\n",
       "      <td>...</td>\n",
       "      <td>...</td>\n",
       "    </tr>\n",
       "    <tr>\n",
       "      <th>1162</th>\n",
       "      <td>-17.388302</td>\n",
       "      <td>-66.164555</td>\n",
       "      <td>Avenida Rafael Urquidi, Cobija, Cercado, Cocha...</td>\n",
       "      <td>Av. Rafael Urquidi</td>\n",
       "    </tr>\n",
       "    <tr>\n",
       "      <th>1163</th>\n",
       "      <td>-17.388586</td>\n",
       "      <td>-66.164503</td>\n",
       "      <td>Avenida Rafael Urquidi, Cobija, Cercado, Cocha...</td>\n",
       "      <td>Av. Rafael Urquidi</td>\n",
       "    </tr>\n",
       "    <tr>\n",
       "      <th>1164</th>\n",
       "      <td>-17.388644</td>\n",
       "      <td>-66.164492</td>\n",
       "      <td>Avenida Rafael Urquidi, Cobija, Cercado, Cocha...</td>\n",
       "      <td>Av. Rafael Urquidi</td>\n",
       "    </tr>\n",
       "    <tr>\n",
       "      <th>1165</th>\n",
       "      <td>-17.406208</td>\n",
       "      <td>-66.169949</td>\n",
       "      <td>Avenida Juana Azurduy de Padilla, Guillermo Ki...</td>\n",
       "      <td>Av. Juana Azurduy de Padilla</td>\n",
       "    </tr>\n",
       "    <tr>\n",
       "      <th>1166</th>\n",
       "      <td>-17.406273</td>\n",
       "      <td>-66.169970</td>\n",
       "      <td>Avenida Juana Azurduy de Padilla, Guillermo Ki...</td>\n",
       "      <td>Av. Juana Azurduy de Padilla</td>\n",
       "    </tr>\n",
       "  </tbody>\n",
       "</table>\n",
       "<p>1167 rows × 4 columns</p>\n",
       "</div>"
      ]
     },
     "execution_count": 34,
     "metadata": {},
     "output_type": "execute_result"
    }
   ],
   "execution_count": 34
  },
  {
   "metadata": {
    "ExecuteTime": {
     "end_time": "2024-10-27T17:05:29.863765Z",
     "start_time": "2024-10-27T17:05:29.834197Z"
    }
   },
   "cell_type": "code",
   "source": [
    "# save the transformed addresses\n",
    "df.to_csv('../dataset/yolo_signals_cbba/addresses_transformed.csv', index=False)\n"
   ],
   "id": "4bcc7530ab74d429",
   "outputs": [],
   "execution_count": 35
  }
 ],
 "metadata": {
  "kernelspec": {
   "display_name": "Python 3",
   "language": "python",
   "name": "python3"
  },
  "language_info": {
   "codemirror_mode": {
    "name": "ipython",
    "version": 2
   },
   "file_extension": ".py",
   "mimetype": "text/x-python",
   "name": "python",
   "nbconvert_exporter": "python",
   "pygments_lexer": "ipython2",
   "version": "2.7.6"
  }
 },
 "nbformat": 4,
 "nbformat_minor": 5
}
