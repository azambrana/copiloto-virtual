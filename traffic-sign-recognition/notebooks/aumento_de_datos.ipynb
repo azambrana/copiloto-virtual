{
 "cells": [
  {
   "metadata": {},
   "cell_type": "markdown",
   "source": [
    "Script para aumentar los datos de entrenamiento de un modelo de detección de objetos con la librería Albumentations\n",
    "author: Alvaro Zambrana Sejas"
   ],
   "id": "a673aef62852b98"
  },
  {
   "metadata": {},
   "cell_type": "code",
   "outputs": [
    {
     "name": "stdout",
     "output_type": "stream",
     "text": [
      "Requirement already satisfied: opencv-python in c:\\apps\\anaconda3\\envs\\copiloto-virtual\\lib\\site-packages (4.10.0.84)\n",
      "Requirement already satisfied: scikit-image in c:\\apps\\anaconda3\\envs\\copiloto-virtual\\lib\\site-packages (0.24.0)\n",
      "Requirement already satisfied: albumentations in c:\\apps\\anaconda3\\envs\\copiloto-virtual\\lib\\site-packages (1.4.0)\n",
      "Requirement already satisfied: numpy>=1.21.2 in c:\\apps\\anaconda3\\envs\\copiloto-virtual\\lib\\site-packages (from opencv-python) (1.26.4)\n",
      "Requirement already satisfied: scipy>=1.9 in c:\\apps\\anaconda3\\envs\\copiloto-virtual\\lib\\site-packages (from scikit-image) (1.14.1)\n",
      "Requirement already satisfied: networkx>=2.8 in c:\\apps\\anaconda3\\envs\\copiloto-virtual\\lib\\site-packages (from scikit-image) (3.3)\n",
      "Requirement already satisfied: pillow>=9.1 in c:\\apps\\anaconda3\\envs\\copiloto-virtual\\lib\\site-packages (from scikit-image) (10.4.0)\n",
      "Requirement already satisfied: imageio>=2.33 in c:\\apps\\anaconda3\\envs\\copiloto-virtual\\lib\\site-packages (from scikit-image) (2.35.1)\n",
      "Requirement already satisfied: tifffile>=2022.8.12 in c:\\apps\\anaconda3\\envs\\copiloto-virtual\\lib\\site-packages (from scikit-image) (2024.9.20)\n",
      "Requirement already satisfied: packaging>=21 in c:\\users\\alvaro\\appdata\\roaming\\python\\python310\\site-packages (from scikit-image) (24.1)\n",
      "Requirement already satisfied: lazy-loader>=0.4 in c:\\apps\\anaconda3\\envs\\copiloto-virtual\\lib\\site-packages (from scikit-image) (0.4)\n",
      "Requirement already satisfied: PyYAML in c:\\apps\\anaconda3\\envs\\copiloto-virtual\\lib\\site-packages (from albumentations) (6.0.2)\n",
      "Requirement already satisfied: qudida>=0.0.4 in c:\\apps\\anaconda3\\envs\\copiloto-virtual\\lib\\site-packages (from albumentations) (0.0.4)\n",
      "Requirement already satisfied: scikit-learn>=0.19.1 in c:\\apps\\anaconda3\\envs\\copiloto-virtual\\lib\\site-packages (from qudida>=0.0.4->albumentations) (1.5.2)\n",
      "Requirement already satisfied: typing-extensions in c:\\apps\\anaconda3\\envs\\copiloto-virtual\\lib\\site-packages (from qudida>=0.0.4->albumentations) (4.12.2)\n",
      "Requirement already satisfied: opencv-python-headless>=4.0.1 in c:\\apps\\anaconda3\\envs\\copiloto-virtual\\lib\\site-packages (from qudida>=0.0.4->albumentations) (4.10.0.84)\n",
      "Requirement already satisfied: joblib>=1.2.0 in c:\\apps\\anaconda3\\envs\\copiloto-virtual\\lib\\site-packages (from scikit-learn>=0.19.1->qudida>=0.0.4->albumentations) (1.4.2)\n",
      "Requirement already satisfied: threadpoolctl>=3.1.0 in c:\\apps\\anaconda3\\envs\\copiloto-virtual\\lib\\site-packages (from scikit-learn>=0.19.1->qudida>=0.0.4->albumentations) (3.5.0)\n"
     ]
    }
   ],
   "execution_count": 1,
   "source": [
    "# instalar librerías\n",
    "!pip install opencv-python scikit-image albumentations"
   ],
   "id": "initial_id"
  },
  {
   "metadata": {
    "ExecuteTime": {
     "end_time": "2024-11-26T02:57:18.303283Z",
     "start_time": "2024-11-26T02:57:18.183007Z"
    }
   },
   "cell_type": "code",
   "source": "!python --version",
   "id": "59515848f7956889",
   "outputs": [
    {
     "name": "stdout",
     "output_type": "stream",
     "text": [
      "Python 3.10.15\n"
     ]
    }
   ],
   "execution_count": 2
  },
  {
   "metadata": {
    "ExecuteTime": {
     "end_time": "2024-11-26T02:57:30.771496Z",
     "start_time": "2024-11-26T02:57:24.140090Z"
    }
   },
   "cell_type": "code",
   "source": [
    "# Aumento de datos con la librería Albumentations\n",
    "\n",
    "# instalar librerías\n",
    "!pip install -U albumentations\n",
    "#!pip install albumentations="
   ],
   "id": "3c134e200480de4a",
   "outputs": [
    {
     "name": "stdout",
     "output_type": "stream",
     "text": [
      "Requirement already satisfied: albumentations in c:\\apps\\anaconda3\\envs\\copiloto-virtual\\lib\\site-packages (1.4.21)\n",
      "Requirement already satisfied: numpy>=1.24.4 in c:\\apps\\anaconda3\\envs\\copiloto-virtual\\lib\\site-packages (from albumentations) (2.1.1)\n",
      "Requirement already satisfied: scipy>=1.10.0 in c:\\apps\\anaconda3\\envs\\copiloto-virtual\\lib\\site-packages (from albumentations) (1.14.1)\n",
      "Requirement already satisfied: PyYAML in c:\\apps\\anaconda3\\envs\\copiloto-virtual\\lib\\site-packages (from albumentations) (6.0.2)\n",
      "Requirement already satisfied: pydantic>=2.7.0 in c:\\apps\\anaconda3\\envs\\copiloto-virtual\\lib\\site-packages (from albumentations) (2.10.1)\n",
      "Requirement already satisfied: albucore==0.0.20 in c:\\apps\\anaconda3\\envs\\copiloto-virtual\\lib\\site-packages (from albumentations) (0.0.20)\n",
      "Requirement already satisfied: eval-type-backport in c:\\apps\\anaconda3\\envs\\copiloto-virtual\\lib\\site-packages (from albumentations) (0.2.0)\n",
      "Requirement already satisfied: opencv-python-headless>=4.9.0.80 in c:\\apps\\anaconda3\\envs\\copiloto-virtual\\lib\\site-packages (from albumentations) (4.10.0.84)\n",
      "Requirement already satisfied: stringzilla>=3.10.4 in c:\\apps\\anaconda3\\envs\\copiloto-virtual\\lib\\site-packages (from albucore==0.0.20->albumentations) (3.10.10)\n",
      "Requirement already satisfied: simsimd>=5.9.2 in c:\\apps\\anaconda3\\envs\\copiloto-virtual\\lib\\site-packages (from albucore==0.0.20->albumentations) (6.1.1)\n",
      "Requirement already satisfied: annotated-types>=0.6.0 in c:\\apps\\anaconda3\\envs\\copiloto-virtual\\lib\\site-packages (from pydantic>=2.7.0->albumentations) (0.7.0)\n",
      "Requirement already satisfied: pydantic-core==2.27.1 in c:\\apps\\anaconda3\\envs\\copiloto-virtual\\lib\\site-packages (from pydantic>=2.7.0->albumentations) (2.27.1)\n",
      "Requirement already satisfied: typing-extensions>=4.12.2 in c:\\apps\\anaconda3\\envs\\copiloto-virtual\\lib\\site-packages (from pydantic>=2.7.0->albumentations) (4.12.2)\n"
     ]
    },
    {
     "name": "stderr",
     "output_type": "stream",
     "text": [
      "\n",
      "[notice] A new release of pip is available: 24.2 -> 24.3.1\n",
      "[notice] To update, run: python.exe -m pip install --upgrade pip\n"
     ]
    }
   ],
   "execution_count": 3
  },
  {
   "metadata": {
    "ExecuteTime": {
     "end_time": "2024-11-26T02:57:32.548680Z",
     "start_time": "2024-11-26T02:57:32.499136Z"
    }
   },
   "cell_type": "code",
   "source": "!dir",
   "id": "887eb7f4662852b7",
   "outputs": [
    {
     "name": "stdout",
     "output_type": "stream",
     "text": [
      " Volume in drive C has no label.\n",
      " Volume Serial Number is 860A-E6B1\n",
      "\n",
      " Directory of C:\\Users\\Alvaro\\PycharmProjects\\copilotoVirtual\\notebooks\n",
      "\n",
      "25/11/2024  10:57 p. m.    <DIR>          .\n",
      "28/10/2024  12:00 p. m.    <DIR>          ..\n",
      "04/10/2024  11:11 a. m.               588 4.5\n",
      "26/10/2024  12:17 a. m.           145,381 analyze_timestamp.ipynb\n",
      "01/10/2024  07:38 p. m.           805,169 aumento_de_datos-bup.ipynb\n",
      "25/11/2024  10:57 p. m.            22,837 aumento_de_datos.ipynb\n",
      "04/10/2024  09:42 a. m.         3,932,288 calibration_image_sample_data_20x128x128x3_float32.npy\n",
      "08/10/2024  06:05 p. m.           284,445 copiloto_virtual_logs.ipynb\n",
      "18/09/2024  01:45 a. m.    <DIR>          data\n",
      "03/10/2024  12:54 a. m.    <DIR>          dataset\n",
      "25/09/2024  08:21 a. m.    <DIR>          datasets\n",
      "15/10/2024  11:45 p. m.               649 EDA.ipynb\n",
      "27/09/2024  11:25 p. m.            73,752 ETL.ipynb\n",
      "24/09/2024  12:05 p. m.             2,912 ETL2.ipynb\n",
      "27/10/2024  11:51 a. m.         2,469,057 extract_metadata_from_dataset.ipynb\n",
      "27/10/2024  02:32 p. m.             2,336 google_drive.ipynb\n",
      "27/09/2024  01:30 a. m.    <DIR>          input\n",
      "25/09/2024  03:20 p. m.           392,681 local-train_yolov10_object_detection_on_custom_dataset.ipynb\n",
      "03/10/2024  03:43 p. m.         5,447,717 local-train_yolov10_object_detection_on_custom_dataset_2.ipynb\n",
      "04/10/2024  08:18 p. m.         6,840,367 local-train_yolov10_object_detection_on_custom_dataset_with_augmented_data.ipynb\n",
      "26/10/2024  06:57 p. m.             3,880 metadata_metrics.ipynb\n",
      "01/10/2024  07:50 p. m.    <DIR>          output\n",
      "01/10/2024  11:00 p. m.    <DIR>          output2\n",
      "01/10/2024  11:09 p. m.    <DIR>          output3\n",
      "01/10/2024  11:18 p. m.    <DIR>          output4\n",
      "18/09/2024  01:42 a. m.    <DIR>          runs\n",
      "03/10/2024  11:28 a. m.           385,594 split_dataset.ipynb\n",
      "27/10/2024  12:20 a. m.             6,093 tag_images.ipynb\n",
      "01/10/2024  07:38 p. m.           759,393 test.ipynb\n",
      "27/10/2024  01:05 p. m.            11,331 transform_addresses.ipynb\n",
      "27/10/2024  01:16 p. m.            24,142 transform_metadata.ipynb\n",
      "27/10/2024  11:29 a. m.               652 transform_raw_metadata.ipynb\n",
      "13/11/2024  12:10 a. m.            32,954 voxel51_traffic_signals_cbba.ipynb\n",
      "24/09/2024  11:28 p. m.    <DIR>          weights\n",
      "              22 File(s)     21,644,218 bytes\n",
      "              12 Dir(s)  33,157,939,200 bytes free\n"
     ]
    }
   ],
   "execution_count": 4
  },
  {
   "metadata": {
    "ExecuteTime": {
     "end_time": "2024-11-28T21:32:48.909559Z",
     "start_time": "2024-11-28T21:32:46.528566Z"
    }
   },
   "cell_type": "code",
   "source": [
    "import albumentations as A\n",
    "from albumentations.pytorch import ToTensorV2\n",
    "import os\n",
    "from skimage import io\n",
    "import cv2\n",
    " \n",
    "# cargar las imágenes\n",
    "ruta = '../dataset/processed/yolo_signals_cbba/train'\n",
    "ruta_salida = '../dataset/processed/yolo_signals_cbba_with_augmented_data/train'\n",
    "jpg_extension = '.jpg'\n",
    "txt_extension = '.txt'\n",
    "\n",
    "# Definimos la función para cargar las imágenes\n",
    "def cargar_imagenes(ruta, extension):\n",
    "    imagenes = {}    \n",
    "    \n",
    "    for archivo in os.listdir(ruta):\n",
    "        path, ext = os.path.splitext(archivo)\n",
    "        basename = os.path.basename(path)\n",
    "        if archivo.endswith(extension):\n",
    "            # imagen = io.imread(os.path.join(ruta, archivo))\n",
    "            image = cv2.imread(os.path.join(ruta, archivo))\n",
    "            image = cv2.cvtColor(image, cv2.COLOR_BGR2RGB)\n",
    "            \n",
    "            # crear un diccionario con la imagen y el basename como key\n",
    "            imagenes[basename] = image\n",
    "    return imagenes\n",
    "\n",
    "\n",
    "# Definimos la función para cargar las imágenes\n",
    "def cargar_bboxes(ruta, ruta_images, extension):\n",
    "    imagenes_bboxes = {}\n",
    "    for archivo in os.listdir(ruta_images):\n",
    "        path, ext = os.path.splitext(archivo)\n",
    "        basename = os.path.basename(path)\n",
    "        txt_file = f'{basename}{extension}'\n",
    "        print(txt_file, basename)\n",
    "        \n",
    "        if os.path.exists(os.path.join(ruta, txt_file)):\n",
    "            txt = open(os.path.join(ruta, txt_file), 'r')\n",
    "            bboxes = []\n",
    "            for line in txt:\n",
    "                bbox = line.split()\n",
    "                bboxes.append(bbox)\n",
    "\n",
    "            imagenes_bboxes[basename] = bboxes\n",
    "\n",
    "    return imagenes_bboxes\n",
    "\n",
    "# Configuración de las transformaciones\n",
    "transformaciones = [\n",
    "    A.RandomBrightnessContrast(p=0.15),\n",
    "    A.HueSaturationValue(hue_shift_limit=10, sat_shift_limit=10, val_shift_limit=10, p=0.5),\n",
    "    \n",
    "    A.RandomScale(scale_limit=0.1, p=0.25),\n",
    "    A.Rotate(limit=(-15, 15), p=0.2),\n",
    "    A.ShiftScaleRotate(shift_limit=0.05, scale_limit=0.05, rotate_limit=5, p=0.15),\n",
    "    A.Perspective(scale=(0.05, 0.05), p=0.3),    \n",
    "    A.Affine(scale=0.9,translate_percent=0.05,shear=(-5,5),p=0.1),\n",
    "\n",
    "    A.Downscale(always_apply=False, p=0.3, scale_min=0.35, scale_max=0.79),\n",
    "    A.MotionBlur(always_apply=False, p=0.3, blur_limit=(15, 31), allow_shifted=True)\n",
    "]\n",
    "\n",
    "# Definir las transformaciones\n",
    "transform = A.Compose(transformaciones, bbox_params= A.BboxParams(format='yolo', min_visibility=0.8))\n",
    "num_variaciones = 5  # Definir cuántas veces se quiere transformar la imagen aleatoriamente\n",
    "\n",
    "# Definimos la función para aplicar las transformaciones de los datos con Albumentations\n",
    "def aumentar_datos_albumentations(imagenes, bboxes):\n",
    "    imagenes_aumentadas = []\n",
    "    datos_aumentados = {}\n",
    "    for basename, imagen in imagenes.items():\n",
    "        print(f'Imagen original de {basename}')\n",
    "        print(f'bbox original de {basename}', bboxes[basename])\n",
    "        # Aplicar las transformaciones varias veces \n",
    "        for i in range(num_variaciones):\n",
    "            # convertir las bboxes a formato de Albumentations\n",
    "            image_bboxes = []\n",
    "            for bbox in bboxes[basename]:\n",
    "                image_bboxes.append([float(bbox[1]), float(bbox[2]), float(bbox[3]), float(bbox[4]), int(bbox[0])])               \n",
    "\n",
    "            try:\n",
    "                imagen_aumentada = transform(image=imagen, bboxes = image_bboxes)\n",
    "                print(f'{basename}_{i}', imagen_aumentada['image'], imagen_aumentada['bboxes'])\n",
    "                imagenes_aumentadas.append(imagen_aumentada['image'])\n",
    "                print(f'Imagen aumentada de {basename}')\n",
    "                print(f'bbox aumentada de {basename}', image_bboxes)\n",
    "                datos_aumentados[f'{basename}_{i}'] = imagen_aumentada\n",
    "            except Exception as e:\n",
    "                print(f'Error en la imagen {basename}_{i}: {e}')\n",
    "                continue\n",
    "\n",
    "    return datos_aumentados\n",
    "\n",
    "imagenes = cargar_imagenes(f'{ruta}/images', jpg_extension)\n",
    "bboxes = cargar_bboxes(f'{ruta}/labels', f'{ruta}/images', txt_extension)\n",
    "\n",
    "# Aumentar los datos con Albumentations\n",
    "imagenes_aumentadas_albumentations = aumentar_datos_albumentations(imagenes, bboxes) \n",
    "\n",
    "# almacenar las imágenes y etiquetas aumentadas\n",
    "def guardar_imagenes_y_etiquetas(datos_aumentados, ruta_salida):\n",
    "    \n",
    "    if not os.path.exists(ruta_salida):\n",
    "        os.makedirs(ruta_salida)\n",
    "    \n",
    "    for basename, imagen_aumentada in datos_aumentados.items():\n",
    "        imagen = imagen_aumentada['image']\n",
    "        bboxes = imagen_aumentada['bboxes']\n",
    "\n",
    "        io.imsave(os.path.join(f'{ruta_salida}/images', f'{basename}_transformado.jpg'), imagen)\n",
    "\n",
    "        with open(os.path.join(f'{ruta_salida}/labels', f'{basename}_transformado.txt'), 'w') as file:\n",
    "            for bbox in bboxes:\n",
    "                file.write(f'{bbox[4]} {bbox[0]} {bbox[1]} {bbox[2]} {bbox[3]}\\n')\n",
    "    return  \n",
    "\n",
    "guardar_imagenes_y_etiquetas(imagenes_aumentadas_albumentations, ruta_salida)\n"
   ],
   "id": "30e07228df63a795",
   "outputs": [
    {
     "ename": "KeyboardInterrupt",
     "evalue": "",
     "output_type": "error",
     "traceback": [
      "\u001B[1;31m---------------------------------------------------------------------------\u001B[0m",
      "\u001B[1;31mKeyboardInterrupt\u001B[0m                         Traceback (most recent call last)",
      "Cell \u001B[1;32mIn[1], line 1\u001B[0m\n\u001B[1;32m----> 1\u001B[0m \u001B[38;5;28;01mimport\u001B[39;00m \u001B[38;5;21;01malbumentations\u001B[39;00m \u001B[38;5;28;01mas\u001B[39;00m \u001B[38;5;21;01mA\u001B[39;00m\n\u001B[0;32m      2\u001B[0m \u001B[38;5;28;01mfrom\u001B[39;00m \u001B[38;5;21;01malbumentations\u001B[39;00m\u001B[38;5;21;01m.\u001B[39;00m\u001B[38;5;21;01mpytorch\u001B[39;00m \u001B[38;5;28;01mimport\u001B[39;00m ToTensorV2\n\u001B[0;32m      3\u001B[0m \u001B[38;5;28;01mimport\u001B[39;00m \u001B[38;5;21;01mos\u001B[39;00m\n",
      "File \u001B[1;32mC:\\apps\\anaconda3\\envs\\copiloto-virtual\\lib\\site-packages\\albumentations\\__init__.py:3\u001B[0m\n\u001B[0;32m      1\u001B[0m __version__ \u001B[38;5;241m=\u001B[39m \u001B[38;5;124m\"\u001B[39m\u001B[38;5;124m1.4.0\u001B[39m\u001B[38;5;124m\"\u001B[39m\n\u001B[1;32m----> 3\u001B[0m \u001B[38;5;28;01mfrom\u001B[39;00m \u001B[38;5;21;01m.\u001B[39;00m\u001B[38;5;21;01maugmentations\u001B[39;00m \u001B[38;5;28;01mimport\u001B[39;00m \u001B[38;5;241m*\u001B[39m\n\u001B[0;32m      4\u001B[0m \u001B[38;5;28;01mfrom\u001B[39;00m \u001B[38;5;21;01m.\u001B[39;00m\u001B[38;5;21;01mcore\u001B[39;00m\u001B[38;5;21;01m.\u001B[39;00m\u001B[38;5;21;01mcomposition\u001B[39;00m \u001B[38;5;28;01mimport\u001B[39;00m \u001B[38;5;241m*\u001B[39m\n\u001B[0;32m      5\u001B[0m \u001B[38;5;28;01mfrom\u001B[39;00m \u001B[38;5;21;01m.\u001B[39;00m\u001B[38;5;21;01mcore\u001B[39;00m\u001B[38;5;21;01m.\u001B[39;00m\u001B[38;5;21;01mserialization\u001B[39;00m \u001B[38;5;28;01mimport\u001B[39;00m \u001B[38;5;241m*\u001B[39m\n",
      "File \u001B[1;32mC:\\apps\\anaconda3\\envs\\copiloto-virtual\\lib\\site-packages\\albumentations\\augmentations\\__init__.py:2\u001B[0m\n\u001B[0;32m      1\u001B[0m \u001B[38;5;66;03m# Common classes\u001B[39;00m\n\u001B[1;32m----> 2\u001B[0m \u001B[38;5;28;01mfrom\u001B[39;00m \u001B[38;5;21;01m.\u001B[39;00m\u001B[38;5;21;01mblur\u001B[39;00m\u001B[38;5;21;01m.\u001B[39;00m\u001B[38;5;21;01mfunctional\u001B[39;00m \u001B[38;5;28;01mimport\u001B[39;00m \u001B[38;5;241m*\u001B[39m\n\u001B[0;32m      3\u001B[0m \u001B[38;5;28;01mfrom\u001B[39;00m \u001B[38;5;21;01m.\u001B[39;00m\u001B[38;5;21;01mblur\u001B[39;00m\u001B[38;5;21;01m.\u001B[39;00m\u001B[38;5;21;01mtransforms\u001B[39;00m \u001B[38;5;28;01mimport\u001B[39;00m \u001B[38;5;241m*\u001B[39m\n\u001B[0;32m      4\u001B[0m \u001B[38;5;28;01mfrom\u001B[39;00m \u001B[38;5;21;01m.\u001B[39;00m\u001B[38;5;21;01mcrops\u001B[39;00m\u001B[38;5;21;01m.\u001B[39;00m\u001B[38;5;21;01mfunctional\u001B[39;00m \u001B[38;5;28;01mimport\u001B[39;00m \u001B[38;5;241m*\u001B[39m\n",
      "File \u001B[1;32mC:\\apps\\anaconda3\\envs\\copiloto-virtual\\lib\\site-packages\\albumentations\\augmentations\\blur\\__init__.py:1\u001B[0m\n\u001B[1;32m----> 1\u001B[0m \u001B[38;5;28;01mfrom\u001B[39;00m \u001B[38;5;21;01m.\u001B[39;00m\u001B[38;5;21;01mfunctional\u001B[39;00m \u001B[38;5;28;01mimport\u001B[39;00m \u001B[38;5;241m*\u001B[39m\n\u001B[0;32m      2\u001B[0m \u001B[38;5;28;01mfrom\u001B[39;00m \u001B[38;5;21;01m.\u001B[39;00m\u001B[38;5;21;01mtransforms\u001B[39;00m \u001B[38;5;28;01mimport\u001B[39;00m \u001B[38;5;241m*\u001B[39m\n",
      "File \u001B[1;32mC:\\apps\\anaconda3\\envs\\copiloto-virtual\\lib\\site-packages\\albumentations\\augmentations\\blur\\functional.py:9\u001B[0m\n\u001B[0;32m      6\u001B[0m \u001B[38;5;28;01mimport\u001B[39;00m \u001B[38;5;21;01mnumpy\u001B[39;00m \u001B[38;5;28;01mas\u001B[39;00m \u001B[38;5;21;01mnp\u001B[39;00m\n\u001B[0;32m      8\u001B[0m \u001B[38;5;28;01mfrom\u001B[39;00m \u001B[38;5;21;01malbumentations\u001B[39;00m\u001B[38;5;21;01m.\u001B[39;00m\u001B[38;5;21;01maugmentations\u001B[39;00m\u001B[38;5;21;01m.\u001B[39;00m\u001B[38;5;21;01mfunctional\u001B[39;00m \u001B[38;5;28;01mimport\u001B[39;00m convolve\n\u001B[1;32m----> 9\u001B[0m \u001B[38;5;28;01mfrom\u001B[39;00m \u001B[38;5;21;01malbumentations\u001B[39;00m\u001B[38;5;21;01m.\u001B[39;00m\u001B[38;5;21;01maugmentations\u001B[39;00m\u001B[38;5;21;01m.\u001B[39;00m\u001B[38;5;21;01mgeometric\u001B[39;00m\u001B[38;5;21;01m.\u001B[39;00m\u001B[38;5;21;01mfunctional\u001B[39;00m \u001B[38;5;28;01mimport\u001B[39;00m scale\n\u001B[0;32m     10\u001B[0m \u001B[38;5;28;01mfrom\u001B[39;00m \u001B[38;5;21;01malbumentations\u001B[39;00m\u001B[38;5;21;01m.\u001B[39;00m\u001B[38;5;21;01maugmentations\u001B[39;00m\u001B[38;5;21;01m.\u001B[39;00m\u001B[38;5;21;01mutils\u001B[39;00m \u001B[38;5;28;01mimport\u001B[39;00m (\n\u001B[0;32m     11\u001B[0m     _maybe_process_in_chunks,\n\u001B[0;32m     12\u001B[0m     clipped,\n\u001B[0;32m     13\u001B[0m     preserve_shape,\n\u001B[0;32m     14\u001B[0m )\n\u001B[0;32m     16\u001B[0m __all__ \u001B[38;5;241m=\u001B[39m [\u001B[38;5;124m\"\u001B[39m\u001B[38;5;124mblur\u001B[39m\u001B[38;5;124m\"\u001B[39m, \u001B[38;5;124m\"\u001B[39m\u001B[38;5;124mmedian_blur\u001B[39m\u001B[38;5;124m\"\u001B[39m, \u001B[38;5;124m\"\u001B[39m\u001B[38;5;124mgaussian_blur\u001B[39m\u001B[38;5;124m\"\u001B[39m, \u001B[38;5;124m\"\u001B[39m\u001B[38;5;124mglass_blur\u001B[39m\u001B[38;5;124m\"\u001B[39m]\n",
      "File \u001B[1;32mC:\\apps\\anaconda3\\envs\\copiloto-virtual\\lib\\site-packages\\albumentations\\augmentations\\geometric\\__init__.py:1\u001B[0m\n\u001B[1;32m----> 1\u001B[0m \u001B[38;5;28;01mfrom\u001B[39;00m \u001B[38;5;21;01m.\u001B[39;00m\u001B[38;5;21;01mfunctional\u001B[39;00m \u001B[38;5;28;01mimport\u001B[39;00m \u001B[38;5;241m*\u001B[39m\n\u001B[0;32m      2\u001B[0m \u001B[38;5;28;01mfrom\u001B[39;00m \u001B[38;5;21;01m.\u001B[39;00m\u001B[38;5;21;01mresize\u001B[39;00m \u001B[38;5;28;01mimport\u001B[39;00m \u001B[38;5;241m*\u001B[39m\n\u001B[0;32m      3\u001B[0m \u001B[38;5;28;01mfrom\u001B[39;00m \u001B[38;5;21;01m.\u001B[39;00m\u001B[38;5;21;01mrotate\u001B[39;00m \u001B[38;5;28;01mimport\u001B[39;00m \u001B[38;5;241m*\u001B[39m\n",
      "File \u001B[1;32mC:\\apps\\anaconda3\\envs\\copiloto-virtual\\lib\\site-packages\\albumentations\\augmentations\\geometric\\functional.py:7\u001B[0m\n\u001B[0;32m      5\u001B[0m \u001B[38;5;28;01mimport\u001B[39;00m \u001B[38;5;21;01mnumpy\u001B[39;00m \u001B[38;5;28;01mas\u001B[39;00m \u001B[38;5;21;01mnp\u001B[39;00m\n\u001B[0;32m      6\u001B[0m \u001B[38;5;28;01mimport\u001B[39;00m \u001B[38;5;21;01mskimage\u001B[39;00m\u001B[38;5;21;01m.\u001B[39;00m\u001B[38;5;21;01mtransform\u001B[39;00m\n\u001B[1;32m----> 7\u001B[0m \u001B[38;5;28;01mfrom\u001B[39;00m \u001B[38;5;21;01mscipy\u001B[39;00m\u001B[38;5;21;01m.\u001B[39;00m\u001B[38;5;21;01mndimage\u001B[39;00m \u001B[38;5;28;01mimport\u001B[39;00m gaussian_filter\n\u001B[0;32m      9\u001B[0m \u001B[38;5;28;01mfrom\u001B[39;00m \u001B[38;5;21;01malbumentations\u001B[39;00m\u001B[38;5;21;01m.\u001B[39;00m\u001B[38;5;21;01maugmentations\u001B[39;00m\u001B[38;5;21;01m.\u001B[39;00m\u001B[38;5;21;01mutils\u001B[39;00m \u001B[38;5;28;01mimport\u001B[39;00m (\n\u001B[0;32m     10\u001B[0m     _maybe_process_in_chunks,\n\u001B[0;32m     11\u001B[0m     angle_2pi_range,\n\u001B[1;32m   (...)\u001B[0m\n\u001B[0;32m     14\u001B[0m     preserve_shape,\n\u001B[0;32m     15\u001B[0m )\n\u001B[0;32m     17\u001B[0m \u001B[38;5;28;01mfrom\u001B[39;00m \u001B[38;5;21;01m.\u001B[39;00m\u001B[38;5;21;01m.\u001B[39;00m\u001B[38;5;21;01m.\u001B[39;00m \u001B[38;5;28;01mimport\u001B[39;00m random_utils\n",
      "File \u001B[1;32mC:\\apps\\anaconda3\\envs\\copiloto-virtual\\lib\\site-packages\\scipy\\ndimage\\__init__.py:154\u001B[0m\n\u001B[0;32m    152\u001B[0m \u001B[38;5;28;01mfrom\u001B[39;00m \u001B[38;5;21;01m.\u001B[39;00m\u001B[38;5;21;01m_filters\u001B[39;00m \u001B[38;5;28;01mimport\u001B[39;00m \u001B[38;5;241m*\u001B[39m\n\u001B[0;32m    153\u001B[0m \u001B[38;5;28;01mfrom\u001B[39;00m \u001B[38;5;21;01m.\u001B[39;00m\u001B[38;5;21;01m_fourier\u001B[39;00m \u001B[38;5;28;01mimport\u001B[39;00m \u001B[38;5;241m*\u001B[39m\n\u001B[1;32m--> 154\u001B[0m \u001B[38;5;28;01mfrom\u001B[39;00m \u001B[38;5;21;01m.\u001B[39;00m\u001B[38;5;21;01m_interpolation\u001B[39;00m \u001B[38;5;28;01mimport\u001B[39;00m \u001B[38;5;241m*\u001B[39m\n\u001B[0;32m    155\u001B[0m \u001B[38;5;28;01mfrom\u001B[39;00m \u001B[38;5;21;01m.\u001B[39;00m\u001B[38;5;21;01m_measurements\u001B[39;00m \u001B[38;5;28;01mimport\u001B[39;00m \u001B[38;5;241m*\u001B[39m\n\u001B[0;32m    156\u001B[0m \u001B[38;5;28;01mfrom\u001B[39;00m \u001B[38;5;21;01m.\u001B[39;00m\u001B[38;5;21;01m_morphology\u001B[39;00m \u001B[38;5;28;01mimport\u001B[39;00m \u001B[38;5;241m*\u001B[39m\n",
      "File \u001B[1;32mC:\\apps\\anaconda3\\envs\\copiloto-virtual\\lib\\site-packages\\scipy\\ndimage\\_interpolation.py:37\u001B[0m\n\u001B[0;32m     34\u001B[0m \u001B[38;5;28;01mimport\u001B[39;00m \u001B[38;5;21;01mnumpy\u001B[39;00m \u001B[38;5;28;01mas\u001B[39;00m \u001B[38;5;21;01mnp\u001B[39;00m\n\u001B[0;32m     35\u001B[0m \u001B[38;5;28;01mfrom\u001B[39;00m \u001B[38;5;21;01mscipy\u001B[39;00m\u001B[38;5;21;01m.\u001B[39;00m\u001B[38;5;21;01m_lib\u001B[39;00m\u001B[38;5;21;01m.\u001B[39;00m\u001B[38;5;21;01m_util\u001B[39;00m \u001B[38;5;28;01mimport\u001B[39;00m normalize_axis_index\n\u001B[1;32m---> 37\u001B[0m \u001B[38;5;28;01mfrom\u001B[39;00m \u001B[38;5;21;01mscipy\u001B[39;00m \u001B[38;5;28;01mimport\u001B[39;00m special\n\u001B[0;32m     38\u001B[0m \u001B[38;5;28;01mfrom\u001B[39;00m \u001B[38;5;21;01m.\u001B[39;00m \u001B[38;5;28;01mimport\u001B[39;00m _ni_support\n\u001B[0;32m     39\u001B[0m \u001B[38;5;28;01mfrom\u001B[39;00m \u001B[38;5;21;01m.\u001B[39;00m \u001B[38;5;28;01mimport\u001B[39;00m _nd_image\n",
      "File \u001B[1;32m<frozen importlib._bootstrap>:1075\u001B[0m, in \u001B[0;36m_handle_fromlist\u001B[1;34m(module, fromlist, import_, recursive)\u001B[0m\n",
      "File \u001B[1;32mC:\\apps\\anaconda3\\envs\\copiloto-virtual\\lib\\site-packages\\scipy\\__init__.py:147\u001B[0m, in \u001B[0;36m__getattr__\u001B[1;34m(name)\u001B[0m\n\u001B[0;32m    145\u001B[0m \u001B[38;5;28;01mdef\u001B[39;00m \u001B[38;5;21m__getattr__\u001B[39m(name):\n\u001B[0;32m    146\u001B[0m     \u001B[38;5;28;01mif\u001B[39;00m name \u001B[38;5;129;01min\u001B[39;00m submodules:\n\u001B[1;32m--> 147\u001B[0m         \u001B[38;5;28;01mreturn\u001B[39;00m \u001B[43m_importlib\u001B[49m\u001B[38;5;241;43m.\u001B[39;49m\u001B[43mimport_module\u001B[49m\u001B[43m(\u001B[49m\u001B[38;5;124;43mf\u001B[39;49m\u001B[38;5;124;43m'\u001B[39;49m\u001B[38;5;124;43mscipy.\u001B[39;49m\u001B[38;5;132;43;01m{\u001B[39;49;00m\u001B[43mname\u001B[49m\u001B[38;5;132;43;01m}\u001B[39;49;00m\u001B[38;5;124;43m'\u001B[39;49m\u001B[43m)\u001B[49m\n\u001B[0;32m    148\u001B[0m     \u001B[38;5;28;01melse\u001B[39;00m:\n\u001B[0;32m    149\u001B[0m         \u001B[38;5;28;01mtry\u001B[39;00m:\n",
      "File \u001B[1;32mC:\\apps\\anaconda3\\envs\\copiloto-virtual\\lib\\importlib\\__init__.py:126\u001B[0m, in \u001B[0;36mimport_module\u001B[1;34m(name, package)\u001B[0m\n\u001B[0;32m    124\u001B[0m             \u001B[38;5;28;01mbreak\u001B[39;00m\n\u001B[0;32m    125\u001B[0m         level \u001B[38;5;241m+\u001B[39m\u001B[38;5;241m=\u001B[39m \u001B[38;5;241m1\u001B[39m\n\u001B[1;32m--> 126\u001B[0m \u001B[38;5;28;01mreturn\u001B[39;00m \u001B[43m_bootstrap\u001B[49m\u001B[38;5;241;43m.\u001B[39;49m\u001B[43m_gcd_import\u001B[49m\u001B[43m(\u001B[49m\u001B[43mname\u001B[49m\u001B[43m[\u001B[49m\u001B[43mlevel\u001B[49m\u001B[43m:\u001B[49m\u001B[43m]\u001B[49m\u001B[43m,\u001B[49m\u001B[43m \u001B[49m\u001B[43mpackage\u001B[49m\u001B[43m,\u001B[49m\u001B[43m \u001B[49m\u001B[43mlevel\u001B[49m\u001B[43m)\u001B[49m\n",
      "File \u001B[1;32mC:\\apps\\anaconda3\\envs\\copiloto-virtual\\lib\\site-packages\\scipy\\special\\__init__.py:820\u001B[0m\n\u001B[0;32m    816\u001B[0m \u001B[38;5;28;01mfrom\u001B[39;00m \u001B[38;5;21;01m.\u001B[39;00m\u001B[38;5;21;01m_basic\u001B[39;00m \u001B[38;5;28;01mimport\u001B[39;00m \u001B[38;5;241m*\u001B[39m\n\u001B[0;32m    818\u001B[0m \u001B[38;5;28;01mfrom\u001B[39;00m \u001B[38;5;21;01m.\u001B[39;00m\u001B[38;5;21;01m_logsumexp\u001B[39;00m \u001B[38;5;28;01mimport\u001B[39;00m logsumexp, softmax, log_softmax\n\u001B[1;32m--> 820\u001B[0m \u001B[38;5;28;01mfrom\u001B[39;00m \u001B[38;5;21;01m.\u001B[39;00m \u001B[38;5;28;01mimport\u001B[39;00m _orthogonal\n\u001B[0;32m    821\u001B[0m \u001B[38;5;28;01mfrom\u001B[39;00m \u001B[38;5;21;01m.\u001B[39;00m\u001B[38;5;21;01m_orthogonal\u001B[39;00m \u001B[38;5;28;01mimport\u001B[39;00m \u001B[38;5;241m*\u001B[39m\n\u001B[0;32m    823\u001B[0m \u001B[38;5;28;01mfrom\u001B[39;00m \u001B[38;5;21;01m.\u001B[39;00m\u001B[38;5;21;01m_spfun_stats\u001B[39;00m \u001B[38;5;28;01mimport\u001B[39;00m multigammaln\n",
      "File \u001B[1;32mC:\\apps\\anaconda3\\envs\\copiloto-virtual\\lib\\site-packages\\scipy\\special\\_orthogonal.py:81\u001B[0m\n\u001B[0;32m     78\u001B[0m \u001B[38;5;28;01mimport\u001B[39;00m \u001B[38;5;21;01mnumpy\u001B[39;00m \u001B[38;5;28;01mas\u001B[39;00m \u001B[38;5;21;01mnp\u001B[39;00m\n\u001B[0;32m     79\u001B[0m \u001B[38;5;28;01mfrom\u001B[39;00m \u001B[38;5;21;01mnumpy\u001B[39;00m \u001B[38;5;28;01mimport\u001B[39;00m (exp, inf, pi, sqrt, floor, sin, cos, around,\n\u001B[0;32m     80\u001B[0m                    hstack, arccos, arange)\n\u001B[1;32m---> 81\u001B[0m \u001B[38;5;28;01mfrom\u001B[39;00m \u001B[38;5;21;01mscipy\u001B[39;00m \u001B[38;5;28;01mimport\u001B[39;00m linalg\n\u001B[0;32m     82\u001B[0m \u001B[38;5;28;01mfrom\u001B[39;00m \u001B[38;5;21;01mscipy\u001B[39;00m\u001B[38;5;21;01m.\u001B[39;00m\u001B[38;5;21;01mspecial\u001B[39;00m \u001B[38;5;28;01mimport\u001B[39;00m airy\n\u001B[0;32m     84\u001B[0m \u001B[38;5;66;03m# Local imports.\u001B[39;00m\n\u001B[0;32m     85\u001B[0m \u001B[38;5;66;03m# There is no .pyi file for _specfun\u001B[39;00m\n",
      "File \u001B[1;32m<frozen importlib._bootstrap>:1075\u001B[0m, in \u001B[0;36m_handle_fromlist\u001B[1;34m(module, fromlist, import_, recursive)\u001B[0m\n",
      "File \u001B[1;32mC:\\apps\\anaconda3\\envs\\copiloto-virtual\\lib\\site-packages\\scipy\\__init__.py:147\u001B[0m, in \u001B[0;36m__getattr__\u001B[1;34m(name)\u001B[0m\n\u001B[0;32m    145\u001B[0m \u001B[38;5;28;01mdef\u001B[39;00m \u001B[38;5;21m__getattr__\u001B[39m(name):\n\u001B[0;32m    146\u001B[0m     \u001B[38;5;28;01mif\u001B[39;00m name \u001B[38;5;129;01min\u001B[39;00m submodules:\n\u001B[1;32m--> 147\u001B[0m         \u001B[38;5;28;01mreturn\u001B[39;00m \u001B[43m_importlib\u001B[49m\u001B[38;5;241;43m.\u001B[39;49m\u001B[43mimport_module\u001B[49m\u001B[43m(\u001B[49m\u001B[38;5;124;43mf\u001B[39;49m\u001B[38;5;124;43m'\u001B[39;49m\u001B[38;5;124;43mscipy.\u001B[39;49m\u001B[38;5;132;43;01m{\u001B[39;49;00m\u001B[43mname\u001B[49m\u001B[38;5;132;43;01m}\u001B[39;49;00m\u001B[38;5;124;43m'\u001B[39;49m\u001B[43m)\u001B[49m\n\u001B[0;32m    148\u001B[0m     \u001B[38;5;28;01melse\u001B[39;00m:\n\u001B[0;32m    149\u001B[0m         \u001B[38;5;28;01mtry\u001B[39;00m:\n",
      "File \u001B[1;32mC:\\apps\\anaconda3\\envs\\copiloto-virtual\\lib\\importlib\\__init__.py:126\u001B[0m, in \u001B[0;36mimport_module\u001B[1;34m(name, package)\u001B[0m\n\u001B[0;32m    124\u001B[0m             \u001B[38;5;28;01mbreak\u001B[39;00m\n\u001B[0;32m    125\u001B[0m         level \u001B[38;5;241m+\u001B[39m\u001B[38;5;241m=\u001B[39m \u001B[38;5;241m1\u001B[39m\n\u001B[1;32m--> 126\u001B[0m \u001B[38;5;28;01mreturn\u001B[39;00m \u001B[43m_bootstrap\u001B[49m\u001B[38;5;241;43m.\u001B[39;49m\u001B[43m_gcd_import\u001B[49m\u001B[43m(\u001B[49m\u001B[43mname\u001B[49m\u001B[43m[\u001B[49m\u001B[43mlevel\u001B[49m\u001B[43m:\u001B[49m\u001B[43m]\u001B[49m\u001B[43m,\u001B[49m\u001B[43m \u001B[49m\u001B[43mpackage\u001B[49m\u001B[43m,\u001B[49m\u001B[43m \u001B[49m\u001B[43mlevel\u001B[49m\u001B[43m)\u001B[49m\n",
      "File \u001B[1;32mC:\\apps\\anaconda3\\envs\\copiloto-virtual\\lib\\site-packages\\scipy\\linalg\\__init__.py:204\u001B[0m\n\u001B[0;32m      1\u001B[0m \u001B[38;5;124;03m\"\"\"\u001B[39;00m\n\u001B[0;32m      2\u001B[0m \u001B[38;5;124;03m====================================\u001B[39;00m\n\u001B[0;32m      3\u001B[0m \u001B[38;5;124;03mLinear algebra (:mod:`scipy.linalg`)\u001B[39;00m\n\u001B[1;32m   (...)\u001B[0m\n\u001B[0;32m    200\u001B[0m \n\u001B[0;32m    201\u001B[0m \u001B[38;5;124;03m\"\"\"\u001B[39;00m  \u001B[38;5;66;03m# noqa: E501\u001B[39;00m\n\u001B[0;32m    203\u001B[0m \u001B[38;5;28;01mfrom\u001B[39;00m \u001B[38;5;21;01m.\u001B[39;00m\u001B[38;5;21;01m_misc\u001B[39;00m \u001B[38;5;28;01mimport\u001B[39;00m \u001B[38;5;241m*\u001B[39m\n\u001B[1;32m--> 204\u001B[0m \u001B[38;5;28;01mfrom\u001B[39;00m \u001B[38;5;21;01m.\u001B[39;00m\u001B[38;5;21;01m_cythonized_array_utils\u001B[39;00m \u001B[38;5;28;01mimport\u001B[39;00m \u001B[38;5;241m*\u001B[39m\n\u001B[0;32m    205\u001B[0m \u001B[38;5;28;01mfrom\u001B[39;00m \u001B[38;5;21;01m.\u001B[39;00m\u001B[38;5;21;01m_basic\u001B[39;00m \u001B[38;5;28;01mimport\u001B[39;00m \u001B[38;5;241m*\u001B[39m\n\u001B[0;32m    206\u001B[0m \u001B[38;5;28;01mfrom\u001B[39;00m \u001B[38;5;21;01m.\u001B[39;00m\u001B[38;5;21;01m_decomp\u001B[39;00m \u001B[38;5;28;01mimport\u001B[39;00m \u001B[38;5;241m*\u001B[39m\n",
      "File \u001B[1;32m<frozen importlib._bootstrap>:404\u001B[0m, in \u001B[0;36mparent\u001B[1;34m(self)\u001B[0m\n",
      "\u001B[1;31mKeyboardInterrupt\u001B[0m: "
     ]
    }
   ],
   "execution_count": 1
  },
  {
   "metadata": {
    "ExecuteTime": {
     "end_time": "2024-10-04T01:20:50.885069Z",
     "start_time": "2024-10-04T01:17:26.912446Z"
    }
   },
   "cell_type": "code",
   "source": [
    "# render images with bounding boxes\n",
    "\n",
    "import cv2\n",
    "import matplotlib.pyplot as plt\n",
    "import numpy as np\n",
    "\n",
    "def render_image_with_bboxes(image, bboxes):\n",
    "    for bbox in bboxes:\n",
    "        x, y, w, h, _ = bbox\n",
    "        # denormalize the bounding box\n",
    "        x, y, w, h = int(x * image.shape[1]), int(y * image.shape[0]), int(w * image.shape[1]), int(h * image.shape[0])\n",
    "\n",
    "        x1, y1, x2, y2 = int(x - w/2), int(y - h/2), int(x + w/2), int(y + h/2)\n",
    "        image = cv2.rectangle(image, (x1, y1), (x2, y2), (255, 0, 0), 2)\n",
    "    return image\n",
    "\n",
    "def render_images_with_bboxes(images, bboxes):\n",
    "    fig, axs = plt.subplots(3, 3, figsize=(15, 15))\n",
    "    for i, (image, bbox) in enumerate(zip(images, bboxes)):\n",
    "        image_with_bboxes = render_image_with_bboxes(image, bbox)\n",
    "        axs[i // 3, i % 3].imshow(image_with_bboxes)\n",
    "        axs[i // 3, i % 3].axis('off')\n",
    "    plt.show()\n",
    "    return\n",
    "\n",
    "def guardar_imagenes_con_sus_etiquetas(datos_aumentados, ruta_salida):\n",
    "    for basename, datos in datos_aumentados.items():\n",
    "        imagen = datos['image']\n",
    "        bboxes = datos['bboxes']\n",
    "\n",
    "        image_with_bboxes = render_image_with_bboxes(imagen, bboxes)\n",
    "\n",
    "        io.imsave(os.path.join(ruta_salida, f'{basename}_etiquetada.jpg'), image_with_bboxes)        \n",
    "    return  \n",
    "\n",
    "guardar_imagenes_con_sus_etiquetas(imagenes_aumentadas_albumentations, ruta_salida)"
   ],
   "id": "ea6db4546b5d547a",
   "outputs": [],
   "execution_count": 19
  }
 ],
 "metadata": {
  "kernelspec": {
   "display_name": "Python 3",
   "language": "python",
   "name": "python3"
  },
  "language_info": {
   "codemirror_mode": {
    "name": "ipython",
    "version": 2
   },
   "file_extension": ".py",
   "mimetype": "text/x-python",
   "name": "python",
   "nbconvert_exporter": "python",
   "pygments_lexer": "ipython2",
   "version": "2.7.6"
  }
 },
 "nbformat": 4,
 "nbformat_minor": 5
}
