{
 "cells": [
  {
   "cell_type": "code",
   "execution_count": null,
   "id": "initial_id",
   "metadata": {
    "collapsed": true
   },
   "outputs": [],
   "source": [
    ""
   ]
  },
  {
   "metadata": {},
   "cell_type": "code",
   "outputs": [],
   "execution_count": null,
   "source": [
    "import cv2\n",
    "import numpy as np\n",
    "\n",
    "# Función para calcular la métrica de iluminación\n",
    "def calcular_metrica_iluminacion(imagen):\n",
    "    # Calcular el histograma\n",
    "    histograma = cv2.calcHist([imagen], [0], None, [256], [0, 256])\n",
    "    total_pixeles = imagen.size\n",
    "    \n",
    "    # Definir umbrales para buena iluminación (entre 50 y 200 en escala de grises)\n",
    "    buena_iluminacion = np.sum(histograma[50:200])\n",
    "    \n",
    "    # Calcular el porcentaje de píxeles bien iluminados\n",
    "    metrica_iluminacion = (buena_iluminacion / total_pixeles) * 100\n",
    "    \n",
    "    return metrica_iluminacion\n",
    "\n",
    "# Función para calcular la métrica de nitidez\n",
    "def calcular_metrica_nitidez(imagen):\n",
    "    laplacian = cv2.Laplacian(imagen, cv2.CV_64F)\n",
    "    suma_bordes = np.sum(np.abs(laplacian))\n",
    "    metrica_nitidez = suma_bordes / (imagen.shape[0] * imagen.shape[1])\n",
    "    metrica_nitidez = min(metrica_nitidez / 1000, 1)\n",
    "    return metrica_nitidez\n",
    "\n",
    "# Función para calcular la métrica de desenfoque\n",
    "def calcular_metrica_desenfoque(imagen, umbral=1000):\n",
    "    laplacian_var = cv2.Laplacian(imagen, cv2.CV_64F).var()\n",
    "    metrica_desenfoque = min((laplacian_var / umbral) * 100, 100)\n",
    "    return metrica_desenfoque\n",
    "\n",
    "# Función para extraer la región del bounding box\n",
    "def extraer_region(imagen, bbox):\n",
    "    xmin, ymin, xmax, ymax = bbox\n",
    "    region = imagen[ymin:ymax, xmin:xmax]\n",
    "    return region\n"
   ],
   "id": "95ca9c71471604ee"
  },
  {
   "metadata": {},
   "cell_type": "code",
   "outputs": [],
   "execution_count": null,
   "source": [
    "# Cargar la imagen y las coordenadas del bounding box\n",
    "imagen = cv2.imread('..dataset\\\\yolo_signals_cbba\\\\train\\\\images\\\\2024_08_18_17_37_25_601_-0400_1280x1280.left-region.jpg')\n",
    "# read the bounding box from the file '2024_08_18_17_37_25_601_-0400_1280x1280.left-region.txt'\n",
    "\n",
    "bounding_box = (xmin, ymin, xmax, ymax)  # Asume que tienes estas coordenadas\n",
    "\n",
    "# Extraer la región de la señal de tráfico\n",
    "region_señal = extraer_region(imagen, bounding_box)\n",
    "\n",
    "# Convertir la región a escala de grises\n",
    "region_gris = cv2.cvtColor(region_señal, cv2.COLOR_BGR2GRAY)\n",
    "\n",
    "# Calcular las métricas para la región\n",
    "metrica_iluminacion = calcular_metrica_iluminacion(region_gris)\n",
    "metrica_nitidez = calcular_metrica_nitidez(region_gris)\n",
    "metrica_desenfoque = calcular_metrica_desenfoque(region_gris)\n",
    "\n",
    "# Mostrar las métricas calculadas\n",
    "print(f\"Métrica de iluminación: {metrica_iluminacion:.2f}%\")\n",
    "print(f\"Métrica de nitidez: {metrica_nitidez:.2f}\")\n",
    "print(f\"Métrica de desenfoque: {metrica_desenfoque:.2f}/100\")\n"
   ],
   "id": "285666cef8f0e68a"
  }
 ],
 "metadata": {
  "kernelspec": {
   "display_name": "Python 3",
   "language": "python",
   "name": "python3"
  },
  "language_info": {
   "codemirror_mode": {
    "name": "ipython",
    "version": 2
   },
   "file_extension": ".py",
   "mimetype": "text/x-python",
   "name": "python",
   "nbconvert_exporter": "python",
   "pygments_lexer": "ipython2",
   "version": "2.7.6"
  }
 },
 "nbformat": 4,
 "nbformat_minor": 5
}
