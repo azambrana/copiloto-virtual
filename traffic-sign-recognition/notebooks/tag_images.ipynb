{
 "cells": [
  {
   "metadata": {
    "ExecuteTime": {
     "end_time": "2024-10-27T04:15:41.816551Z",
     "start_time": "2024-10-27T04:15:41.772032Z"
    }
   },
   "cell_type": "code",
   "source": [
    "import cv2\n",
    "import os\n",
    "import yaml\n",
    "\n",
    "# Helper function to convert YOLO format (normalized) to bounding box (x1, y1, x2, y2)\n",
    "def yolo_to_bbox(x_center, y_center, width, height, img_width, img_height):\n",
    "    x1 = int((x_center - width / 2) * img_width)\n",
    "    y1 = int((y_center - height / 2) * img_height)\n",
    "    x2 = int((x_center + width / 2) * img_width)\n",
    "    y2 = int((y_center + height / 2) * img_height)\n",
    "    return x1, y1, x2, y2\n",
    "\n",
    "def tag_images(image_folder, label_folder, target_folder, class_names):\n",
    "    # Create the target folder if it doesn't exist\n",
    "    if not os.path.exists(target_folder):\n",
    "        os.makedirs(target_folder)\n",
    "\n",
    "    print(f'Processing {image_folder} and {label_folder} to {target_folder}')\n",
    "\n",
    "    # Iterate through the images and their corresponding labels\n",
    "    for image_file in os.listdir(image_folder):\n",
    "        if image_file.endswith(\".jpg\") or image_file.endswith(\".png\"):\n",
    "            # Load image\n",
    "            image_path = os.path.join(image_folder, image_file)\n",
    "            image = cv2.imread(image_path)\n",
    "            img_height, img_width = image.shape[:2]\n",
    "    \n",
    "            # Corresponding label file\n",
    "            label_file = os.path.join(label_folder, image_file.replace('.jpg', '.txt').replace('.png', '.txt'))\n",
    "    \n",
    "            # Check if label file exists\n",
    "            if os.path.exists(label_file):\n",
    "                with open(label_file, 'r') as f:\n",
    "                    for line in f.readlines():\n",
    "                        class_id, x_center, y_center, width, height = map(float, line.split())\n",
    "                        x1, y1, x2, y2 = yolo_to_bbox(x_center, y_center, width, height, img_width, img_height)\n",
    "                        \n",
    "                        # Draw the bounding box\n",
    "                        cv2.rectangle(image, (x1, y1), (x2, y2), (0, 255, 0), 2)\n",
    "    \n",
    "                        # Draw the class label\n",
    "                        label = f'{class_names[int(class_id)]}'\n",
    "                        cv2.putText(image, label, (x1, y1 - 10), cv2.FONT_HERSHEY_SIMPLEX, 0.9, (0, 255, 0), 2)\n",
    "    \n",
    "                # save the image with bounding boxes\n",
    "                cv2.imwrite(target_folder + image_file, image)\n",
    "\n",
    "def load_class_names(data_yaml_path):\n",
    "    # load the class names from data.yaml\n",
    "    with open(data_yaml_path, 'r') as f:\n",
    "        data = yaml.load(f, Loader=yaml.FullLoader)\n",
    "        class_names = data['names']\n",
    "    \n",
    "    return class_names\n",
    "\n",
    "def tag_yolo_dataset(dataset_path, output_path):\n",
    "    # Load class names\n",
    "    class_names = load_class_names(f'{dataset_path}\\\\data.yaml')\n",
    "    \n",
    "    print(f'Class names: {class_names}')\n",
    "    \n",
    "    subsets = ['train', 'val', 'test']\n",
    "    \n",
    "    if not os.path.exists(dataset_path + f'\\\\{output_path}'):\n",
    "        os.makedirs(dataset_path + f'\\\\{output_path}')\n",
    "    \n",
    "    for subset in subsets:\n",
    "        tag_images(f'{dataset_path}\\\\{subset}\\\\images', f'{dataset_path}\\\\{subset}\\\\labels', f'{dataset_path}\\\\{output_path}\\\\{subset}\\\\', class_names)"
   ],
   "id": "b38690c7037bf689",
   "outputs": [],
   "execution_count": 21
  },
  {
   "metadata": {
    "ExecuteTime": {
     "end_time": "2024-10-27T04:20:19.443656Z",
     "start_time": "2024-10-27T04:15:46.051713Z"
    }
   },
   "cell_type": "code",
   "source": [
    "dataset_path = '..\\\\dataset\\\\yolo_signals_cbba'\n",
    "tag_yolo_dataset(dataset_path, 'tagged_images')"
   ],
   "id": "381df80c5da1c2dd",
   "outputs": [
    {
     "name": "stdout",
     "output_type": "stream",
     "text": [
      "Class names: {0: 'zona-escolar', 1: 'pare', 2: 'paso-peatonal', 3: 'ceda-el-paso', 4: 'limite-velocidad-10', 5: 'limite-velocidad-20', 6: 'limite-velocidad-30', 7: 'limite-velocidad-40', 8: 'limite-velocidad-35', 9: 'prohibido-girar-izquierda', 10: 'semaforo-rojo', 11: 'prohibido-girar-u', 12: 'semaforo-inteligente-rojo', 13: 'prohibido-girar-derecha', 14: 'pare-horizontal'}\n",
      "Processing ..\\dataset\\yolo_signals_cbba\\train\\images and ..\\dataset\\yolo_signals_cbba\\train\\labels to ..\\dataset\\yolo_signals_cbba\\tagged_images\\train\\\n",
      "Processing ..\\dataset\\yolo_signals_cbba\\val\\images and ..\\dataset\\yolo_signals_cbba\\val\\labels to ..\\dataset\\yolo_signals_cbba\\tagged_images\\val\\\n",
      "Processing ..\\dataset\\yolo_signals_cbba\\test\\images and ..\\dataset\\yolo_signals_cbba\\test\\labels to ..\\dataset\\yolo_signals_cbba\\tagged_images\\test\\\n"
     ]
    }
   ],
   "execution_count": 22
  },
  {
   "metadata": {},
   "cell_type": "code",
   "outputs": [],
   "execution_count": null,
   "source": [
    "\n",
    "    \n"
   ],
   "id": "5eb33232da425598"
  },
  {
   "metadata": {},
   "cell_type": "code",
   "outputs": [],
   "execution_count": null,
   "source": "",
   "id": "1084f87fd562cbec"
  }
 ],
 "metadata": {
  "kernelspec": {
   "display_name": "Python 3",
   "language": "python",
   "name": "python3"
  },
  "language_info": {
   "codemirror_mode": {
    "name": "ipython",
    "version": 2
   },
   "file_extension": ".py",
   "mimetype": "text/x-python",
   "name": "python",
   "nbconvert_exporter": "python",
   "pygments_lexer": "ipython2",
   "version": "2.7.6"
  }
 },
 "nbformat": 4,
 "nbformat_minor": 5
}
