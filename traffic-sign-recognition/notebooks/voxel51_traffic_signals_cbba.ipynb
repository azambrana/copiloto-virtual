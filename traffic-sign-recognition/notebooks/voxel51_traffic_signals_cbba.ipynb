{
 "cells": [
  {
   "metadata": {
    "ExecuteTime": {
     "end_time": "2024-11-13T04:03:36.219605Z",
     "start_time": "2024-11-13T04:03:36.213606Z"
    }
   },
   "cell_type": "code",
   "source": [
    "# !pip install --upgrade pip setuptools wheel build\n",
    "# !pip uninstall fiftyone -y\n",
    "# !pip uninstall fiftyone-brain -y"
   ],
   "id": "3395cf1a60983699",
   "outputs": [],
   "execution_count": 2
  },
  {
   "metadata": {
    "ExecuteTime": {
     "end_time": "2024-11-13T04:03:44.579721Z",
     "start_time": "2024-11-13T04:03:36.287614Z"
    }
   },
   "cell_type": "code",
   "source": [
    "!pip install fiftyone\n",
    "!pip install fiftyone-brain"
   ],
   "id": "cf36116bcfd083f1",
   "outputs": [
    {
     "name": "stdout",
     "output_type": "stream",
     "text": [
      "Requirement already satisfied: fiftyone in c:\\apps\\anaconda3\\envs\\copiloto-virtual\\lib\\site-packages (1.0.0)\n",
      "Requirement already satisfied: aiofiles in c:\\apps\\anaconda3\\envs\\copiloto-virtual\\lib\\site-packages (from fiftyone) (24.1.0)\n",
      "Requirement already satisfied: argcomplete in c:\\apps\\anaconda3\\envs\\copiloto-virtual\\lib\\site-packages (from fiftyone) (3.5.0)\n",
      "Requirement already satisfied: beautifulsoup4 in c:\\apps\\anaconda3\\envs\\copiloto-virtual\\lib\\site-packages (from fiftyone) (4.12.3)\n",
      "Requirement already satisfied: boto3 in c:\\apps\\anaconda3\\envs\\copiloto-virtual\\lib\\site-packages (from fiftyone) (1.35.34)\n",
      "Requirement already satisfied: cachetools in c:\\apps\\anaconda3\\envs\\copiloto-virtual\\lib\\site-packages (from fiftyone) (5.5.0)\n",
      "Requirement already satisfied: dacite<1.8.0,>=1.6.0 in c:\\apps\\anaconda3\\envs\\copiloto-virtual\\lib\\site-packages (from fiftyone) (1.7.0)\n",
      "Requirement already satisfied: Deprecated in c:\\apps\\anaconda3\\envs\\copiloto-virtual\\lib\\site-packages (from fiftyone) (1.2.14)\n",
      "Requirement already satisfied: ftfy in c:\\apps\\anaconda3\\envs\\copiloto-virtual\\lib\\site-packages (from fiftyone) (6.2.3)\n",
      "Requirement already satisfied: humanize in c:\\apps\\anaconda3\\envs\\copiloto-virtual\\lib\\site-packages (from fiftyone) (4.10.0)\n",
      "Requirement already satisfied: hypercorn>=0.13.2 in c:\\apps\\anaconda3\\envs\\copiloto-virtual\\lib\\site-packages (from fiftyone) (0.17.3)\n",
      "Requirement already satisfied: Jinja2>=3 in c:\\apps\\anaconda3\\envs\\copiloto-virtual\\lib\\site-packages (from fiftyone) (3.1.4)\n",
      "Requirement already satisfied: kaleido!=0.2.1.post1 in c:\\apps\\anaconda3\\envs\\copiloto-virtual\\lib\\site-packages (from fiftyone) (0.2.1)\n",
      "Requirement already satisfied: matplotlib in c:\\apps\\anaconda3\\envs\\copiloto-virtual\\lib\\site-packages (from fiftyone) (3.9.2)\n",
      "Requirement already satisfied: mongoengine==0.24.2 in c:\\apps\\anaconda3\\envs\\copiloto-virtual\\lib\\site-packages (from fiftyone) (0.24.2)\n",
      "Requirement already satisfied: motor>=2.5 in c:\\apps\\anaconda3\\envs\\copiloto-virtual\\lib\\site-packages (from fiftyone) (3.5.3)\n",
      "Requirement already satisfied: numpy in c:\\apps\\anaconda3\\envs\\copiloto-virtual\\lib\\site-packages (from fiftyone) (2.1.1)\n",
      "Requirement already satisfied: packaging in c:\\users\\alvaro\\appdata\\roaming\\python\\python310\\site-packages (from fiftyone) (24.1)\n",
      "Requirement already satisfied: pandas in c:\\apps\\anaconda3\\envs\\copiloto-virtual\\lib\\site-packages (from fiftyone) (2.2.3)\n",
      "Requirement already satisfied: Pillow>=6.2 in c:\\apps\\anaconda3\\envs\\copiloto-virtual\\lib\\site-packages (from fiftyone) (10.4.0)\n",
      "Requirement already satisfied: plotly>=4.14 in c:\\apps\\anaconda3\\envs\\copiloto-virtual\\lib\\site-packages (from fiftyone) (5.24.1)\n",
      "Requirement already satisfied: pprintpp in c:\\apps\\anaconda3\\envs\\copiloto-virtual\\lib\\site-packages (from fiftyone) (0.4.0)\n",
      "Requirement already satisfied: psutil in c:\\apps\\anaconda3\\envs\\copiloto-virtual\\lib\\site-packages (from fiftyone) (6.0.0)\n",
      "Requirement already satisfied: pymongo<4.9,>=3.12 in c:\\apps\\anaconda3\\envs\\copiloto-virtual\\lib\\site-packages (from fiftyone) (4.8.0)\n",
      "Requirement already satisfied: pytz in c:\\apps\\anaconda3\\envs\\copiloto-virtual\\lib\\site-packages (from fiftyone) (2024.2)\n",
      "Requirement already satisfied: PyYAML in c:\\apps\\anaconda3\\envs\\copiloto-virtual\\lib\\site-packages (from fiftyone) (6.0.2)\n",
      "Requirement already satisfied: regex in c:\\apps\\anaconda3\\envs\\copiloto-virtual\\lib\\site-packages (from fiftyone) (2024.9.11)\n",
      "Requirement already satisfied: retrying in c:\\apps\\anaconda3\\envs\\copiloto-virtual\\lib\\site-packages (from fiftyone) (1.3.4)\n",
      "Requirement already satisfied: scikit-learn in c:\\apps\\anaconda3\\envs\\copiloto-virtual\\lib\\site-packages (from fiftyone) (1.5.2)\n",
      "Requirement already satisfied: scikit-image in c:\\apps\\anaconda3\\envs\\copiloto-virtual\\lib\\site-packages (from fiftyone) (0.24.0)\n",
      "Requirement already satisfied: scipy in c:\\apps\\anaconda3\\envs\\copiloto-virtual\\lib\\site-packages (from fiftyone) (1.14.1)\n",
      "Requirement already satisfied: setuptools in c:\\apps\\anaconda3\\envs\\copiloto-virtual\\lib\\site-packages (from fiftyone) (75.1.0)\n",
      "Requirement already satisfied: sseclient-py<2,>=1.7.2 in c:\\apps\\anaconda3\\envs\\copiloto-virtual\\lib\\site-packages (from fiftyone) (1.8.0)\n",
      "Requirement already satisfied: sse-starlette<1,>=0.10.3 in c:\\apps\\anaconda3\\envs\\copiloto-virtual\\lib\\site-packages (from fiftyone) (0.10.3)\n",
      "Requirement already satisfied: starlette>=0.24.0 in c:\\apps\\anaconda3\\envs\\copiloto-virtual\\lib\\site-packages (from fiftyone) (0.39.2)\n",
      "Requirement already satisfied: strawberry-graphql in c:\\apps\\anaconda3\\envs\\copiloto-virtual\\lib\\site-packages (from fiftyone) (0.243.1)\n",
      "Requirement already satisfied: tabulate in c:\\apps\\anaconda3\\envs\\copiloto-virtual\\lib\\site-packages (from fiftyone) (0.9.0)\n",
      "Requirement already satisfied: xmltodict in c:\\apps\\anaconda3\\envs\\copiloto-virtual\\lib\\site-packages (from fiftyone) (0.13.0)\n",
      "Requirement already satisfied: universal-analytics-python3<2,>=1.0.1 in c:\\apps\\anaconda3\\envs\\copiloto-virtual\\lib\\site-packages (from fiftyone) (1.1.1)\n",
      "Requirement already satisfied: pydash in c:\\apps\\anaconda3\\envs\\copiloto-virtual\\lib\\site-packages (from fiftyone) (8.0.3)\n",
      "Requirement already satisfied: fiftyone-brain<0.18,>=0.17.0 in c:\\apps\\anaconda3\\envs\\copiloto-virtual\\lib\\site-packages (from fiftyone) (0.17.0)\n",
      "Requirement already satisfied: fiftyone-db<2.0,>=0.4 in c:\\apps\\anaconda3\\envs\\copiloto-virtual\\lib\\site-packages (from fiftyone) (1.1.6)\n",
      "Requirement already satisfied: voxel51-eta<0.14,>=0.13.0 in c:\\apps\\anaconda3\\envs\\copiloto-virtual\\lib\\site-packages (from fiftyone) (0.13.0)\n",
      "Requirement already satisfied: opencv-python-headless in c:\\apps\\anaconda3\\envs\\copiloto-virtual\\lib\\site-packages (from fiftyone) (4.10.0.84)\n",
      "Requirement already satisfied: exceptiongroup>=1.1.0 in c:\\apps\\anaconda3\\envs\\copiloto-virtual\\lib\\site-packages (from hypercorn>=0.13.2->fiftyone) (1.2.2)\n",
      "Requirement already satisfied: h11 in c:\\apps\\anaconda3\\envs\\copiloto-virtual\\lib\\site-packages (from hypercorn>=0.13.2->fiftyone) (0.14.0)\n",
      "Requirement already satisfied: h2>=3.1.0 in c:\\apps\\anaconda3\\envs\\copiloto-virtual\\lib\\site-packages (from hypercorn>=0.13.2->fiftyone) (4.1.0)\n",
      "Requirement already satisfied: priority in c:\\apps\\anaconda3\\envs\\copiloto-virtual\\lib\\site-packages (from hypercorn>=0.13.2->fiftyone) (2.0.0)\n",
      "Requirement already satisfied: taskgroup in c:\\apps\\anaconda3\\envs\\copiloto-virtual\\lib\\site-packages (from hypercorn>=0.13.2->fiftyone) (0.0.0a4)\n",
      "Requirement already satisfied: tomli in c:\\users\\alvaro\\appdata\\roaming\\python\\python310\\site-packages (from hypercorn>=0.13.2->fiftyone) (2.0.1)\n",
      "Requirement already satisfied: typing_extensions in c:\\apps\\anaconda3\\envs\\copiloto-virtual\\lib\\site-packages (from hypercorn>=0.13.2->fiftyone) (4.12.2)\n",
      "Requirement already satisfied: wsproto>=0.14.0 in c:\\apps\\anaconda3\\envs\\copiloto-virtual\\lib\\site-packages (from hypercorn>=0.13.2->fiftyone) (1.2.0)\n",
      "Requirement already satisfied: MarkupSafe>=2.0 in c:\\apps\\anaconda3\\envs\\copiloto-virtual\\lib\\site-packages (from Jinja2>=3->fiftyone) (2.1.5)\n",
      "Requirement already satisfied: tenacity>=6.2.0 in c:\\apps\\anaconda3\\envs\\copiloto-virtual\\lib\\site-packages (from plotly>=4.14->fiftyone) (9.0.0)\n",
      "Requirement already satisfied: dnspython<3.0.0,>=1.16.0 in c:\\apps\\anaconda3\\envs\\copiloto-virtual\\lib\\site-packages (from pymongo<4.9,>=3.12->fiftyone) (2.6.1)\n",
      "Requirement already satisfied: anyio<5,>=3.4.0 in c:\\apps\\anaconda3\\envs\\copiloto-virtual\\lib\\site-packages (from starlette>=0.24.0->fiftyone) (4.6.0)\n",
      "Requirement already satisfied: httpx>=0.10.0 in c:\\apps\\anaconda3\\envs\\copiloto-virtual\\lib\\site-packages (from universal-analytics-python3<2,>=1.0.1->fiftyone) (0.27.2)\n",
      "Requirement already satisfied: dill in c:\\apps\\anaconda3\\envs\\copiloto-virtual\\lib\\site-packages (from voxel51-eta<0.14,>=0.13.0->fiftyone) (0.3.9)\n",
      "Requirement already satisfied: future in c:\\apps\\anaconda3\\envs\\copiloto-virtual\\lib\\site-packages (from voxel51-eta<0.14,>=0.13.0->fiftyone) (1.0.0)\n",
      "Requirement already satisfied: glob2 in c:\\apps\\anaconda3\\envs\\copiloto-virtual\\lib\\site-packages (from voxel51-eta<0.14,>=0.13.0->fiftyone) (0.7)\n",
      "Requirement already satisfied: jsonlines in c:\\apps\\anaconda3\\envs\\copiloto-virtual\\lib\\site-packages (from voxel51-eta<0.14,>=0.13.0->fiftyone) (4.0.0)\n",
      "Requirement already satisfied: py7zr in c:\\apps\\anaconda3\\envs\\copiloto-virtual\\lib\\site-packages (from voxel51-eta<0.14,>=0.13.0->fiftyone) (0.22.0)\n",
      "Requirement already satisfied: python-dateutil in c:\\apps\\anaconda3\\envs\\copiloto-virtual\\lib\\site-packages (from voxel51-eta<0.14,>=0.13.0->fiftyone) (2.9.0.post0)\n",
      "Requirement already satisfied: rarfile in c:\\apps\\anaconda3\\envs\\copiloto-virtual\\lib\\site-packages (from voxel51-eta<0.14,>=0.13.0->fiftyone) (4.2)\n",
      "Requirement already satisfied: requests in c:\\apps\\anaconda3\\envs\\copiloto-virtual\\lib\\site-packages (from voxel51-eta<0.14,>=0.13.0->fiftyone) (2.32.3)\n",
      "Requirement already satisfied: six in c:\\apps\\anaconda3\\envs\\copiloto-virtual\\lib\\site-packages (from voxel51-eta<0.14,>=0.13.0->fiftyone) (1.16.0)\n",
      "Requirement already satisfied: sortedcontainers in c:\\apps\\anaconda3\\envs\\copiloto-virtual\\lib\\site-packages (from voxel51-eta<0.14,>=0.13.0->fiftyone) (2.4.0)\n",
      "Requirement already satisfied: tzlocal in c:\\apps\\anaconda3\\envs\\copiloto-virtual\\lib\\site-packages (from voxel51-eta<0.14,>=0.13.0->fiftyone) (5.2)\n",
      "Requirement already satisfied: urllib3 in c:\\apps\\anaconda3\\envs\\copiloto-virtual\\lib\\site-packages (from voxel51-eta<0.14,>=0.13.0->fiftyone) (2.2.3)\n",
      "Requirement already satisfied: soupsieve>1.2 in c:\\apps\\anaconda3\\envs\\copiloto-virtual\\lib\\site-packages (from beautifulsoup4->fiftyone) (2.6)\n",
      "Requirement already satisfied: botocore<1.36.0,>=1.35.34 in c:\\apps\\anaconda3\\envs\\copiloto-virtual\\lib\\site-packages (from boto3->fiftyone) (1.35.34)\n",
      "Requirement already satisfied: jmespath<2.0.0,>=0.7.1 in c:\\apps\\anaconda3\\envs\\copiloto-virtual\\lib\\site-packages (from boto3->fiftyone) (1.0.1)\n",
      "Requirement already satisfied: s3transfer<0.11.0,>=0.10.0 in c:\\apps\\anaconda3\\envs\\copiloto-virtual\\lib\\site-packages (from boto3->fiftyone) (0.10.2)\n",
      "Requirement already satisfied: wrapt<2,>=1.10 in c:\\apps\\anaconda3\\envs\\copiloto-virtual\\lib\\site-packages (from Deprecated->fiftyone) (1.16.0)\n",
      "Requirement already satisfied: wcwidth<0.3.0,>=0.2.12 in c:\\apps\\anaconda3\\envs\\copiloto-virtual\\lib\\site-packages (from ftfy->fiftyone) (0.2.13)\n",
      "Requirement already satisfied: contourpy>=1.0.1 in c:\\apps\\anaconda3\\envs\\copiloto-virtual\\lib\\site-packages (from matplotlib->fiftyone) (1.3.0)\n",
      "Requirement already satisfied: cycler>=0.10 in c:\\apps\\anaconda3\\envs\\copiloto-virtual\\lib\\site-packages (from matplotlib->fiftyone) (0.12.1)\n",
      "Requirement already satisfied: fonttools>=4.22.0 in c:\\apps\\anaconda3\\envs\\copiloto-virtual\\lib\\site-packages (from matplotlib->fiftyone) (4.54.1)\n",
      "Requirement already satisfied: kiwisolver>=1.3.1 in c:\\apps\\anaconda3\\envs\\copiloto-virtual\\lib\\site-packages (from matplotlib->fiftyone) (1.4.7)\n",
      "Requirement already satisfied: pyparsing>=2.3.1 in c:\\apps\\anaconda3\\envs\\copiloto-virtual\\lib\\site-packages (from matplotlib->fiftyone) (3.1.4)\n",
      "Requirement already satisfied: tzdata>=2022.7 in c:\\apps\\anaconda3\\envs\\copiloto-virtual\\lib\\site-packages (from pandas->fiftyone) (2024.2)\n",
      "Requirement already satisfied: networkx>=2.8 in c:\\apps\\anaconda3\\envs\\copiloto-virtual\\lib\\site-packages (from scikit-image->fiftyone) (3.3)\n",
      "Requirement already satisfied: imageio>=2.33 in c:\\apps\\anaconda3\\envs\\copiloto-virtual\\lib\\site-packages (from scikit-image->fiftyone) (2.35.1)\n",
      "Requirement already satisfied: tifffile>=2022.8.12 in c:\\apps\\anaconda3\\envs\\copiloto-virtual\\lib\\site-packages (from scikit-image->fiftyone) (2024.9.20)\n",
      "Requirement already satisfied: lazy-loader>=0.4 in c:\\apps\\anaconda3\\envs\\copiloto-virtual\\lib\\site-packages (from scikit-image->fiftyone) (0.4)\n",
      "Requirement already satisfied: joblib>=1.2.0 in c:\\apps\\anaconda3\\envs\\copiloto-virtual\\lib\\site-packages (from scikit-learn->fiftyone) (1.4.2)\n",
      "Requirement already satisfied: threadpoolctl>=3.1.0 in c:\\apps\\anaconda3\\envs\\copiloto-virtual\\lib\\site-packages (from scikit-learn->fiftyone) (3.5.0)\n",
      "Requirement already satisfied: graphql-core<3.4.0,>=3.2.0 in c:\\apps\\anaconda3\\envs\\copiloto-virtual\\lib\\site-packages (from strawberry-graphql->fiftyone) (3.2.4)\n",
      "Requirement already satisfied: idna>=2.8 in c:\\apps\\anaconda3\\envs\\copiloto-virtual\\lib\\site-packages (from anyio<5,>=3.4.0->starlette>=0.24.0->fiftyone) (3.10)\n",
      "Requirement already satisfied: sniffio>=1.1 in c:\\apps\\anaconda3\\envs\\copiloto-virtual\\lib\\site-packages (from anyio<5,>=3.4.0->starlette>=0.24.0->fiftyone) (1.3.1)\n",
      "Requirement already satisfied: hyperframe<7,>=6.0 in c:\\apps\\anaconda3\\envs\\copiloto-virtual\\lib\\site-packages (from h2>=3.1.0->hypercorn>=0.13.2->fiftyone) (6.0.1)\n",
      "Requirement already satisfied: hpack<5,>=4.0 in c:\\apps\\anaconda3\\envs\\copiloto-virtual\\lib\\site-packages (from h2>=3.1.0->hypercorn>=0.13.2->fiftyone) (4.0.0)\n",
      "Requirement already satisfied: certifi in c:\\apps\\anaconda3\\envs\\copiloto-virtual\\lib\\site-packages (from httpx>=0.10.0->universal-analytics-python3<2,>=1.0.1->fiftyone) (2024.8.30)\n",
      "Requirement already satisfied: httpcore==1.* in c:\\apps\\anaconda3\\envs\\copiloto-virtual\\lib\\site-packages (from httpx>=0.10.0->universal-analytics-python3<2,>=1.0.1->fiftyone) (1.0.6)\n",
      "Requirement already satisfied: attrs>=19.2.0 in c:\\apps\\anaconda3\\envs\\copiloto-virtual\\lib\\site-packages (from jsonlines->voxel51-eta<0.14,>=0.13.0->fiftyone) (24.2.0)\n",
      "Requirement already satisfied: texttable in c:\\apps\\anaconda3\\envs\\copiloto-virtual\\lib\\site-packages (from py7zr->voxel51-eta<0.14,>=0.13.0->fiftyone) (1.7.0)\n",
      "Requirement already satisfied: pycryptodomex>=3.16.0 in c:\\apps\\anaconda3\\envs\\copiloto-virtual\\lib\\site-packages (from py7zr->voxel51-eta<0.14,>=0.13.0->fiftyone) (3.21.0)\n",
      "Requirement already satisfied: pyzstd>=0.15.9 in c:\\apps\\anaconda3\\envs\\copiloto-virtual\\lib\\site-packages (from py7zr->voxel51-eta<0.14,>=0.13.0->fiftyone) (0.16.1)\n",
      "Requirement already satisfied: pyppmd<1.2.0,>=1.1.0 in c:\\apps\\anaconda3\\envs\\copiloto-virtual\\lib\\site-packages (from py7zr->voxel51-eta<0.14,>=0.13.0->fiftyone) (1.1.0)\n",
      "Requirement already satisfied: pybcj<1.1.0,>=1.0.0 in c:\\apps\\anaconda3\\envs\\copiloto-virtual\\lib\\site-packages (from py7zr->voxel51-eta<0.14,>=0.13.0->fiftyone) (1.0.2)\n",
      "Requirement already satisfied: multivolumefile>=0.2.3 in c:\\apps\\anaconda3\\envs\\copiloto-virtual\\lib\\site-packages (from py7zr->voxel51-eta<0.14,>=0.13.0->fiftyone) (0.2.3)\n",
      "Requirement already satisfied: inflate64<1.1.0,>=1.0.0 in c:\\apps\\anaconda3\\envs\\copiloto-virtual\\lib\\site-packages (from py7zr->voxel51-eta<0.14,>=0.13.0->fiftyone) (1.0.0)\n",
      "Requirement already satisfied: brotli>=1.1.0 in c:\\apps\\anaconda3\\envs\\copiloto-virtual\\lib\\site-packages (from py7zr->voxel51-eta<0.14,>=0.13.0->fiftyone) (1.1.0)\n",
      "Requirement already satisfied: charset-normalizer<4,>=2 in c:\\apps\\anaconda3\\envs\\copiloto-virtual\\lib\\site-packages (from requests->voxel51-eta<0.14,>=0.13.0->fiftyone) (3.3.2)\n"
     ]
    },
    {
     "name": "stderr",
     "output_type": "stream",
     "text": [
      "\n",
      "[notice] A new release of pip is available: 24.2 -> 24.3.1\n",
      "[notice] To update, run: python.exe -m pip install --upgrade pip\n"
     ]
    },
    {
     "name": "stdout",
     "output_type": "stream",
     "text": [
      "Requirement already satisfied: fiftyone-brain in c:\\apps\\anaconda3\\envs\\copiloto-virtual\\lib\\site-packages (0.17.0)\n",
      "Requirement already satisfied: numpy in c:\\apps\\anaconda3\\envs\\copiloto-virtual\\lib\\site-packages (from fiftyone-brain) (2.1.1)\n",
      "Requirement already satisfied: scipy>=1.2.0 in c:\\apps\\anaconda3\\envs\\copiloto-virtual\\lib\\site-packages (from fiftyone-brain) (1.14.1)\n",
      "Requirement already satisfied: scikit-learn in c:\\apps\\anaconda3\\envs\\copiloto-virtual\\lib\\site-packages (from fiftyone-brain) (1.5.2)\n",
      "Requirement already satisfied: joblib>=1.2.0 in c:\\apps\\anaconda3\\envs\\copiloto-virtual\\lib\\site-packages (from scikit-learn->fiftyone-brain) (1.4.2)\n",
      "Requirement already satisfied: threadpoolctl>=3.1.0 in c:\\apps\\anaconda3\\envs\\copiloto-virtual\\lib\\site-packages (from scikit-learn->fiftyone-brain) (3.5.0)\n"
     ]
    },
    {
     "name": "stderr",
     "output_type": "stream",
     "text": [
      "\n",
      "[notice] A new release of pip is available: 24.2 -> 24.3.1\n",
      "[notice] To update, run: python.exe -m pip install --upgrade pip\n"
     ]
    }
   ],
   "execution_count": 3
  },
  {
   "metadata": {
    "ExecuteTime": {
     "end_time": "2024-11-13T04:03:44.595492Z",
     "start_time": "2024-11-13T04:03:44.582401Z"
    }
   },
   "cell_type": "code",
   "source": [
    "# !pip install fiftyone-brain\n",
    "# !pip uninstall tensorflow  -y\n",
    "# !pip uninstall -y typing_extensions\n"
   ],
   "id": "3036e46e4d1cd050",
   "outputs": [],
   "execution_count": 4
  },
  {
   "metadata": {
    "ExecuteTime": {
     "end_time": "2024-11-13T04:03:44.611509Z",
     "start_time": "2024-11-13T04:03:44.597011Z"
    }
   },
   "cell_type": "code",
   "source": [
    "# !pip install tensorflow\n",
    "# !pip install typing_extensions"
   ],
   "id": "1df2e0d6b0ddab31",
   "outputs": [],
   "execution_count": 5
  },
  {
   "metadata": {
    "ExecuteTime": {
     "end_time": "2024-11-13T04:08:57.456819Z",
     "start_time": "2024-11-13T04:08:49.581224Z"
    }
   },
   "cell_type": "code",
   "source": "import fiftyone as fo\n",
   "id": "initial_id",
   "outputs": [],
   "execution_count": 1
  },
  {
   "metadata": {
    "ExecuteTime": {
     "end_time": "2024-11-13T04:09:57.693886Z",
     "start_time": "2024-11-13T04:09:54.548040Z"
    }
   },
   "cell_type": "code",
   "source": [
    "!dir\n",
    "name = \"yolo_signals_cbba1\"\n",
    "dataset_dir = \"..\\\\dataset\\\\yolo_signals_cbba_1\"\n",
    "\n",
    "splits = [\"train\", \"test\", \"val\"]\n",
    "\n",
    "# Load the dataset\n",
    "dataset = fo.Dataset(name)\n",
    "\n",
    "for split in splits:\n",
    "    dataset.add_dir(\n",
    "        dataset_dir=dataset_dir,\n",
    "        dataset_type=fo.types.YOLOv5Dataset,\n",
    "        split=split,\n",
    "        tags=split,\n",
    ")\n",
    "\n",
    "# View summary info about the dataset\n",
    "print(dataset)\n",
    "\n",
    "# Print the first few samples in the dataset\n",
    "print(dataset.head())"
   ],
   "id": "28c4be52c67cb303",
   "outputs": [
    {
     "name": "stdout",
     "output_type": "stream",
     "text": [
      " Volume in drive C has no label.\n",
      " Volume Serial Number is 860A-E6B1\n",
      "\n",
      " Directory of C:\\Users\\Alvaro\\PycharmProjects\\copilotoVirtual\\notebooks\n",
      "\n",
      "13/11/2024  12:09 a. m.    <DIR>          .\n",
      "28/10/2024  12:00 p. m.    <DIR>          ..\n",
      "04/10/2024  11:11 a. m.               588 4.5\n",
      "26/10/2024  12:17 a. m.           145,381 analyze_timestamp.ipynb\n",
      "01/10/2024  07:38 p. m.           805,169 aumento_de_datos-bup.ipynb\n",
      "03/10/2024  09:51 p. m.         6,709,437 aumento_de_datos.ipynb\n",
      "04/10/2024  09:42 a. m.         3,932,288 calibration_image_sample_data_20x128x128x3_float32.npy\n",
      "08/10/2024  06:05 p. m.           284,445 copiloto_virtual_logs.ipynb\n",
      "18/09/2024  01:45 a. m.    <DIR>          data\n",
      "03/10/2024  12:54 a. m.    <DIR>          dataset\n",
      "25/09/2024  08:21 a. m.    <DIR>          datasets\n",
      "15/10/2024  11:45 p. m.               649 EDA.ipynb\n",
      "27/09/2024  11:25 p. m.            73,752 ETL.ipynb\n",
      "24/09/2024  12:05 p. m.             2,912 ETL2.ipynb\n",
      "27/10/2024  11:51 a. m.         2,469,057 extract_metadata_from_dataset.ipynb\n",
      "27/10/2024  02:32 p. m.             2,336 google_drive.ipynb\n",
      "27/09/2024  01:30 a. m.    <DIR>          input\n",
      "25/09/2024  03:20 p. m.           392,681 local-train_yolov10_object_detection_on_custom_dataset.ipynb\n",
      "03/10/2024  03:43 p. m.         5,447,717 local-train_yolov10_object_detection_on_custom_dataset_2.ipynb\n",
      "04/10/2024  08:18 p. m.         6,840,367 local-train_yolov10_object_detection_on_custom_dataset_with_augmented_data.ipynb\n",
      "26/10/2024  06:57 p. m.             3,880 metadata_metrics.ipynb\n",
      "01/10/2024  07:50 p. m.    <DIR>          output\n",
      "01/10/2024  11:00 p. m.    <DIR>          output2\n",
      "01/10/2024  11:09 p. m.    <DIR>          output3\n",
      "01/10/2024  11:18 p. m.    <DIR>          output4\n",
      "18/09/2024  01:42 a. m.    <DIR>          runs\n",
      "03/10/2024  11:28 a. m.           385,594 split_dataset.ipynb\n",
      "27/10/2024  12:20 a. m.             6,093 tag_images.ipynb\n",
      "01/10/2024  07:38 p. m.           759,393 test.ipynb\n",
      "27/10/2024  01:05 p. m.            11,331 transform_addresses.ipynb\n",
      "27/10/2024  01:16 p. m.            24,142 transform_metadata.ipynb\n",
      "27/10/2024  11:29 a. m.               652 transform_raw_metadata.ipynb\n",
      "13/11/2024  12:09 a. m.            34,323 voxel51_traffic_signals_cbba.ipynb\n",
      "24/09/2024  11:28 p. m.    <DIR>          weights\n",
      "              22 File(s)     28,332,187 bytes\n",
      "              12 Dir(s)  51,847,598,080 bytes free\n",
      " 100% |█████████████████| 816/816 [1.9s elapsed, 0s remaining, 457.8 samples/s]      \n",
      " 100% |█████████████████| 116/116 [230.2ms elapsed, 0s remaining, 504.0 samples/s]     \n",
      " 100% |█████████████████| 235/235 [549.0ms elapsed, 0s remaining, 428.0 samples/s]      \n",
      "Name:        yolo_signals_cbba1\n",
      "Media type:  image\n",
      "Num samples: 1167\n",
      "Persistent:  False\n",
      "Tags:        []\n",
      "Sample fields:\n",
      "    id:               fiftyone.core.fields.ObjectIdField\n",
      "    filepath:         fiftyone.core.fields.StringField\n",
      "    tags:             fiftyone.core.fields.ListField(fiftyone.core.fields.StringField)\n",
      "    metadata:         fiftyone.core.fields.EmbeddedDocumentField(fiftyone.core.metadata.ImageMetadata)\n",
      "    created_at:       fiftyone.core.fields.DateTimeField\n",
      "    last_modified_at: fiftyone.core.fields.DateTimeField\n",
      "    ground_truth:     fiftyone.core.fields.EmbeddedDocumentField(fiftyone.core.labels.Detections)\n",
      "[<Sample: {\r\n",
      "    'id': '67342692eaff6d4f34cca56a',\r\n",
      "    'media_type': 'image',\r\n",
      "    'filepath': 'C:\\\\Users\\\\Alvaro\\\\PycharmProjects\\\\copilotoVirtual\\\\dataset\\\\yolo_signals_cbba\\\\train\\\\images\\\\2024_08_18_17_37_25_601_-0400_1280x1280.left-region.jpg',\r\n",
      "    'tags': ['train'],\r\n",
      "    'metadata': None,\r\n",
      "    'created_at': datetime.datetime(2024, 11, 13, 4, 9, 54, 980000),\r\n",
      "    'last_modified_at': datetime.datetime(2024, 11, 13, 4, 9, 54, 980000),\r\n",
      "    'ground_truth': <Detections: {\r\n",
      "        'detections': [\r\n",
      "            <Detection: {\r\n",
      "                'id': '67342692eaff6d4f34cca569',\r\n",
      "                'attributes': {},\r\n",
      "                'tags': [],\r\n",
      "                'label': 'zona-escolar',\r\n",
      "                'bounding_box': [\r\n",
      "                    5.000000000005e-07,\r\n",
      "                    5.000000000005e-07,\r\n",
      "                    0.243523,\r\n",
      "                    0.121695,\r\n",
      "                ],\r\n",
      "                'mask': None,\r\n",
      "                'confidence': None,\r\n",
      "                'index': None,\r\n",
      "            }>,\r\n",
      "        ],\r\n",
      "    }>,\r\n",
      "}>, <Sample: {\r\n",
      "    'id': '67342692eaff6d4f34cca56d',\r\n",
      "    'media_type': 'image',\r\n",
      "    'filepath': 'C:\\\\Users\\\\Alvaro\\\\PycharmProjects\\\\copilotoVirtual\\\\dataset\\\\yolo_signals_cbba\\\\train\\\\images\\\\2024_08_18_17_40_54_602_-0400_1280x1280.left-region.jpg',\r\n",
      "    'tags': ['train'],\r\n",
      "    'metadata': None,\r\n",
      "    'created_at': datetime.datetime(2024, 11, 13, 4, 9, 54, 985000),\r\n",
      "    'last_modified_at': datetime.datetime(2024, 11, 13, 4, 9, 54, 985000),\r\n",
      "    'ground_truth': <Detections: {\r\n",
      "        'detections': [\r\n",
      "            <Detection: {\r\n",
      "                'id': '67342692eaff6d4f34cca56b',\r\n",
      "                'attributes': {},\r\n",
      "                'tags': [],\r\n",
      "                'label': 'zona-escolar',\r\n",
      "                'bounding_box': [0.48423449999999996, 0.2166245, 0.081219, 0.070047],\r\n",
      "                'mask': None,\r\n",
      "                'confidence': None,\r\n",
      "                'index': None,\r\n",
      "            }>,\r\n",
      "            <Detection: {\r\n",
      "                'id': '67342692eaff6d4f34cca56c',\r\n",
      "                'attributes': {},\r\n",
      "                'tags': [],\r\n",
      "                'label': 'prohibido-girar-izquierda',\r\n",
      "                'bounding_box': [0.6050475, 0.27550749999999996, 0.034523, 0.041625],\r\n",
      "                'mask': None,\r\n",
      "                'confidence': None,\r\n",
      "                'index': None,\r\n",
      "            }>,\r\n",
      "        ],\r\n",
      "    }>,\r\n",
      "}>, <Sample: {\r\n",
      "    'id': '67342693eaff6d4f34cca579',\r\n",
      "    'media_type': 'image',\r\n",
      "    'filepath': 'C:\\\\Users\\\\Alvaro\\\\PycharmProjects\\\\copilotoVirtual\\\\dataset\\\\yolo_signals_cbba\\\\train\\\\images\\\\2024_08_18_17_40_55_571_-0400_1280x1280.left-region.jpg',\r\n",
      "    'tags': ['train'],\r\n",
      "    'metadata': None,\r\n",
      "    'created_at': datetime.datetime(2024, 11, 13, 4, 9, 54, 999000),\r\n",
      "    'last_modified_at': datetime.datetime(2024, 11, 13, 4, 9, 54, 999000),\r\n",
      "    'ground_truth': <Detections: {\r\n",
      "        'detections': [\r\n",
      "            <Detection: {\r\n",
      "                'id': '67342692eaff6d4f34cca56e',\r\n",
      "                'attributes': {},\r\n",
      "                'tags': [],\r\n",
      "                'label': 'prohibido-girar-izquierda',\r\n",
      "                'bounding_box': [0.5451485, 0.24910899999999997, 0.046703, 0.060914],\r\n",
      "                'mask': None,\r\n",
      "                'confidence': None,\r\n",
      "                'index': None,\r\n",
      "            }>,\r\n",
      "            <Detection: {\r\n",
      "                'id': '67342692eaff6d4f34cca56f',\r\n",
      "                'attributes': {},\r\n",
      "                'tags': [],\r\n",
      "                'label': 'zona-escolar',\r\n",
      "                'bounding_box': [0.21317200000000003, 0.0663675, 0.1665, 0.159391],\r\n",
      "                'mask': None,\r\n",
      "                'confidence': None,\r\n",
      "                'index': None,\r\n",
      "            }>,\r\n",
      "        ],\r\n",
      "    }>,\r\n",
      "}>]\n"
     ]
    }
   ],
   "execution_count": 3
  },
  {
   "metadata": {
    "ExecuteTime": {
     "end_time": "2024-11-13T04:10:03.402460Z",
     "start_time": "2024-11-13T04:10:02.724953Z"
    }
   },
   "cell_type": "code",
   "source": [
    "dataset = fo.Dataset.from_dir(\n",
    "    dataset_type=fo.types.YOLOv5Dataset,\n",
    "    data_path=\"..\\\\dataset\\\\yolo_signals_cbba_1\\\\train\",\n",
    "    dataset_dir=\"..\\\\dataset\\\\yolo_signals_cbba_1\",\n",
    "    yaml_path=\"dataset.yaml\",\n",
    ")"
   ],
   "id": "54ec612e93725519",
   "outputs": [
    {
     "name": "stdout",
     "output_type": "stream",
     "text": [
      "Ignoring unsupported parameter 'data_path' for importer type <class 'fiftyone.utils.yolo.YOLOv5DatasetImporter'>\n",
      " 100% |█████████████████| 235/235 [581.6ms elapsed, 0s remaining, 404.1 samples/s]      \n"
     ]
    }
   ],
   "execution_count": 4
  },
  {
   "metadata": {
    "ExecuteTime": {
     "end_time": "2024-11-13T04:10:38.614047Z",
     "start_time": "2024-11-13T04:10:33.978220Z"
    }
   },
   "cell_type": "code",
   "source": [
    "# View the dataset in the App\n",
    "session = fo.launch_app(dataset)\n"
   ],
   "id": "3e20bf4b483f9fa5",
   "outputs": [
    {
     "data": {
      "text/plain": [
       "<IPython.lib.display.IFrame at 0x2324a482260>"
      ],
      "text/html": [
       "\n",
       "        <iframe\n",
       "            width=\"100%\"\n",
       "            height=\"800\"\n",
       "            src=\"http://localhost:5151/?notebook=True&subscription=382374c0-949b-41a7-96eb-da73baebfa93\"\n",
       "            frameborder=\"0\"\n",
       "            allowfullscreen\n",
       "            \n",
       "        ></iframe>\n",
       "        "
      ]
     },
     "metadata": {},
     "output_type": "display_data"
    }
   ],
   "execution_count": 6
  },
  {
   "metadata": {},
   "cell_type": "code",
   "source": "",
   "id": "279f4b28a7439b73",
   "outputs": [],
   "execution_count": null
  }
 ],
 "metadata": {
  "kernelspec": {
   "display_name": "Python 3",
   "language": "python",
   "name": "python3"
  },
  "language_info": {
   "codemirror_mode": {
    "name": "ipython",
    "version": 2
   },
   "file_extension": ".py",
   "mimetype": "text/x-python",
   "name": "python",
   "nbconvert_exporter": "python",
   "pygments_lexer": "ipython2",
   "version": "2.7.6"
  }
 },
 "nbformat": 4,
 "nbformat_minor": 5
}
